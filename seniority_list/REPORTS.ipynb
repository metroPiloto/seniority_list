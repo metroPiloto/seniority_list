{
 "cells": [
  {
   "cell_type": "code",
   "execution_count": 1,
   "metadata": {
    "collapsed": false
   },
   "outputs": [
    {
     "data": {
      "text/html": [
       "<style>.container { width:95% !important; }</style>"
      ],
      "text/plain": [
       "<IPython.core.display.HTML object>"
      ]
     },
     "metadata": {},
     "output_type": "display_data"
    }
   ],
   "source": [
    "from IPython.core.display import display, HTML\n",
    "display(HTML(\"<style>.container { width:95% !important; }</style>\"))"
   ]
  },
  {
   "cell_type": "markdown",
   "metadata": {},
   "source": [
    "### run this notebook after running the RUN_SCRIPTS notebook.\n",
    "\n",
    "#### output written to case name folder within the reports folder"
   ]
  },
  {
   "cell_type": "code",
   "execution_count": 2,
   "metadata": {
    "collapsed": false
   },
   "outputs": [
    {
     "name": "stdout",
     "output_type": "stream",
     "text": [
      "CPU times: user 780 ms, sys: 68 ms, total: 848 ms\n",
      "Wall time: 1.22 s\n"
     ]
    }
   ],
   "source": [
    "%%time\n",
    "import pandas as pd\n",
    "import functions as f\n",
    "import reports as rp"
   ]
  },
  {
   "cell_type": "markdown",
   "metadata": {},
   "source": [
    "#### populate the ds_dict (dictionary) with calculated datasets"
   ]
  },
  {
   "cell_type": "code",
   "execution_count": 3,
   "metadata": {
    "collapsed": false
   },
   "outputs": [
    {
     "name": "stdout",
     "output_type": "stream",
     "text": [
      "dataset for proposal \"edit\" not found in dill folder\n",
      "\"edit\" proposal is produced with the editor tool.\n",
      "\n",
      "dataset for proposal \"hybrid\" not found in dill folder\n",
      "\"hybrid\" proposal is generated with the \"build_list\" function within the list_builder.py module\n",
      "\n",
      "datasets loaded (dictionary keys): ['p1', 'p2', 'p3', 'standalone', 'skeleton'] \n",
      "\n",
      "CPU times: user 328 ms, sys: 348 ms, total: 676 ms\n",
      "Wall time: 2.53 s\n"
     ]
    }
   ],
   "source": [
    "%%time\n",
    "ds_dict = f.load_datasets()"
   ]
  },
  {
   "cell_type": "markdown",
   "metadata": {},
   "source": [
    "#### read the settings, attribute, and color dictionaries"
   ]
  },
  {
   "cell_type": "code",
   "execution_count": 4,
   "metadata": {
    "collapsed": false
   },
   "outputs": [
    {
     "name": "stdout",
     "output_type": "stream",
     "text": [
      "CPU times: user 4 ms, sys: 0 ns, total: 4 ms\n",
      "Wall time: 4.37 ms\n"
     ]
    }
   ],
   "source": [
    "%%time\n",
    "sdict = pd.read_pickle('dill/dict_settings.pkl')\n",
    "adict = pd.read_pickle('dill/dict_attr.pkl')\n",
    "cdict = pd.read_pickle('dill/dict_color.pkl')"
   ]
  },
  {
   "cell_type": "markdown",
   "metadata": {},
   "source": [
    "### generate two excel report workbooks:"
   ]
  },
  {
   "cell_type": "code",
   "execution_count": null,
   "metadata": {
    "collapsed": false,
    "scrolled": false
   },
   "outputs": [],
   "source": [
    "%%time\n",
    "# spreadsheets are located within the reports folder\n",
    "# ret_stats.xlsx and annual_stats.xlsx\n",
    "rp.stats_to_excel(ds_dict)"
   ]
  },
  {
   "cell_type": "markdown",
   "metadata": {},
   "source": [
    "### generate average retirement attribute charts"
   ]
  },
  {
   "cell_type": "code",
   "execution_count": 5,
   "metadata": {
    "collapsed": false,
    "scrolled": false
   },
   "outputs": [
    {
     "name": "stdout",
     "output_type": "stream",
     "text": [
      "\n",
      "Preparing SPCNT charts...\n",
      "   p1  done!\n",
      "   p2  done!\n",
      "   p3  done!\n",
      "   standalone  done!\n",
      "\n",
      "Preparing CAT_ORDER charts...\n",
      "   p1  done!\n",
      "   p2  done!\n",
      "   p3  done!\n",
      "   standalone  done!\n",
      "\n",
      "Preparing JOBP charts...\n",
      "   p1  done!\n",
      "   p2  done!\n",
      "   p3  done!\n",
      "   standalone  done!\n",
      "\n",
      "Preparing CPAY charts...\n",
      "   p1  done!\n",
      "   p2  done!\n",
      "   p3  done!\n",
      "   standalone  done!\n",
      "\n",
      "ALL JOBS COMPLETE\n",
      "\n",
      "Chart images are located in the \"sample3\" folder within the \"reports\" folder.\n",
      "\n",
      "Note: The charts produced from this routine are intended for basic overview of the calculated datasets only.\n",
      "The built-in plotting functions provide much more detailed and comprehensive analysis of integrated list outcomes.\n",
      "\n",
      "CPU times: user 1min 34s, sys: 1.29 s, total: 1min 35s\n",
      "Wall time: 1min 35s\n"
     ]
    }
   ],
   "source": [
    "%%time\n",
    "# generating many charts...may take a little while\n",
    "rp.retirement_charts(ds_dict, adict, cdict)"
   ]
  },
  {
   "cell_type": "markdown",
   "metadata": {},
   "source": [
    "### generate annual average attribute charts for all active employees"
   ]
  },
  {
   "cell_type": "code",
   "execution_count": 6,
   "metadata": {
    "collapsed": false
   },
   "outputs": [
    {
     "name": "stdout",
     "output_type": "stream",
     "text": [
      "\n",
      "Preparing SPCNT charts...\n",
      "   p1  done!\n",
      "   p2  done!\n",
      "   p3  done!\n",
      "   standalone  done!\n",
      "\n",
      "Preparing CAT_ORDER charts...\n",
      "   p1  done!\n",
      "   p2  done!\n",
      "   p3  done!\n",
      "   standalone  done!\n",
      "\n",
      "Preparing JOBP charts...\n",
      "   p1  done!\n",
      "   p2  done!\n",
      "   p3  done!\n",
      "   standalone  done!\n",
      "\n",
      "Preparing CPAY charts...\n",
      "   p1  done!\n",
      "   p2  done!\n",
      "   p3  done!\n",
      "   standalone  done!\n",
      "\n",
      "ALL JOBS COMPLETE\n",
      "\n",
      "Chart images are located in the \"sample3\" folder within the \"reports\" folder.\n",
      "\n",
      "Note: The charts produced from this routine are intended for basic overview of the calculated datasets only.\n",
      "The built-in plotting functions provide much more detailed and comprehensive analysis of integrated list outcomes.\n",
      "\n",
      "CPU times: user 1min 36s, sys: 972 ms, total: 1min 37s\n",
      "Wall time: 1min 36s\n"
     ]
    }
   ],
   "source": [
    "%%time\n",
    "# generating many charts...may take a little while\n",
    "rp.annual_charts(ds_dict, adict, cdict)"
   ]
  },
  {
   "cell_type": "code",
   "execution_count": null,
   "metadata": {
    "collapsed": true
   },
   "outputs": [],
   "source": []
  },
  {
   "cell_type": "code",
   "execution_count": null,
   "metadata": {
    "collapsed": true
   },
   "outputs": [],
   "source": []
  },
  {
   "cell_type": "code",
   "execution_count": null,
   "metadata": {
    "collapsed": true
   },
   "outputs": [],
   "source": []
  },
  {
   "cell_type": "code",
   "execution_count": null,
   "metadata": {
    "collapsed": true
   },
   "outputs": [],
   "source": []
  },
  {
   "cell_type": "code",
   "execution_count": null,
   "metadata": {
    "collapsed": true
   },
   "outputs": [],
   "source": []
  },
  {
   "cell_type": "code",
   "execution_count": null,
   "metadata": {
    "collapsed": true
   },
   "outputs": [],
   "source": []
  },
  {
   "cell_type": "code",
   "execution_count": null,
   "metadata": {
    "collapsed": true
   },
   "outputs": [],
   "source": []
  },
  {
   "cell_type": "code",
   "execution_count": null,
   "metadata": {
    "collapsed": true
   },
   "outputs": [],
   "source": []
  },
  {
   "cell_type": "code",
   "execution_count": null,
   "metadata": {
    "collapsed": true
   },
   "outputs": [],
   "source": []
  },
  {
   "cell_type": "code",
   "execution_count": null,
   "metadata": {
    "collapsed": true
   },
   "outputs": [],
   "source": []
  },
  {
   "cell_type": "code",
   "execution_count": null,
   "metadata": {
    "collapsed": true
   },
   "outputs": [],
   "source": []
  },
  {
   "cell_type": "code",
   "execution_count": null,
   "metadata": {
    "collapsed": true
   },
   "outputs": [],
   "source": []
  },
  {
   "cell_type": "code",
   "execution_count": null,
   "metadata": {
    "collapsed": true
   },
   "outputs": [],
   "source": []
  },
  {
   "cell_type": "code",
   "execution_count": null,
   "metadata": {
    "collapsed": true
   },
   "outputs": [],
   "source": []
  },
  {
   "cell_type": "code",
   "execution_count": null,
   "metadata": {
    "collapsed": true
   },
   "outputs": [],
   "source": []
  },
  {
   "cell_type": "code",
   "execution_count": null,
   "metadata": {
    "collapsed": true
   },
   "outputs": [],
   "source": []
  },
  {
   "cell_type": "code",
   "execution_count": null,
   "metadata": {
    "collapsed": true
   },
   "outputs": [],
   "source": []
  },
  {
   "cell_type": "code",
   "execution_count": null,
   "metadata": {
    "collapsed": true
   },
   "outputs": [],
   "source": []
  }
 ],
 "metadata": {
  "kernelspec": {
   "display_name": "Python 3",
   "language": "python",
   "name": "python3"
  },
  "language_info": {
   "codemirror_mode": {
    "name": "ipython",
    "version": 3
   },
   "file_extension": ".py",
   "mimetype": "text/x-python",
   "name": "python",
   "nbconvert_exporter": "python",
   "pygments_lexer": "ipython3",
   "version": "3.6.0"
  }
 },
 "nbformat": 4,
 "nbformat_minor": 2
}
