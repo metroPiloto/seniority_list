{
 "cells": [
  {
   "cell_type": "code",
   "execution_count": null,
   "metadata": {
    "collapsed": false
   },
   "outputs": [],
   "source": [
    "%%time\n",
    "import pandas as pd\n",
    "import numpy as np\n",
    "\n",
    "import functions as f\n",
    "import config as cf\n",
    "import matplotlib_charting as mp\n",
    "\n",
    "import matplotlib.pyplot as plt\n",
    "from matplotlib.ticker import FuncFormatter\n",
    "from matplotlib import cm\n",
    "\n",
    "import seaborn as sns\n",
    "import math\n",
    "import matplotlib\n",
    "\n",
    "#plt.style.use('bmh')\n",
    "#plt.style.use('fivethirtyeight')\n",
    "sns.set_style(\"darkgrid\")\n",
    "\n",
    "%matplotlib inline\n",
    "pd.set_option('notebook_repr_html', False)\n",
    "pd.set_option('max_columns', 30)\n",
    "pd.set_option('max_rows', 10)\n",
    "pd.set_option('display.precision', 3)\n",
    "pd.options.display.max_colwidth=0\n",
    "pd.set_option('expand_frame_repr', False)\n",
    "\n",
    "pd.set_option('display.float_format', lambda x: '%.4f' % x)\n",
    "\n",
    "plt.rcParams['figure.figsize']=(12.0, 9.0)   \n",
    "plt.rcParams['font.size']=14              \n",
    "\n",
    "plt.rcParams['axes.labelsize']=16\n",
    "plt.rcParams['xtick.labelsize']=14\n",
    "plt.rcParams['ytick.labelsize']=14\n",
    "plt.rcParams['axes.titlesize']=20\n",
    "plt.rcParams['lines.linewidth']=3\n",
    "plt.rcParams['legend.fontsize']=16\n",
    "plt.rcParams['legend.fancybox']=True"
   ]
  },
  {
   "cell_type": "code",
   "execution_count": null,
   "metadata": {
    "collapsed": false
   },
   "outputs": [],
   "source": [
    "%%time\n",
    "ds1 = pd.read_pickle('dill/ds1.pkl')\n",
    "ds2 = pd.read_pickle('dill/ds2.pkl')\n",
    "ds3 = pd.read_pickle('dill/ds3.pkl')\n",
    "ds4 = pd.read_pickle('dill/stand.pkl')"
   ]
  },
  {
   "cell_type": "code",
   "execution_count": null,
   "metadata": {
    "collapsed": false
   },
   "outputs": [],
   "source": [
    "ds1.head()"
   ]
  },
  {
   "cell_type": "code",
   "execution_count": null,
   "metadata": {
    "collapsed": true
   },
   "outputs": [],
   "source": [
    "eg_set = np.unique(ds4.eg)"
   ]
  },
  {
   "cell_type": "code",
   "execution_count": null,
   "metadata": {
    "collapsed": false
   },
   "outputs": [],
   "source": [
    "%%time\n",
    "job_levels = cf.num_of_job_levels"
   ]
  },
  {
   "cell_type": "code",
   "execution_count": null,
   "metadata": {
    "collapsed": false
   },
   "outputs": [],
   "source": [
    "%%time\n",
    "formatter = FuncFormatter(mp.to_percent)"
   ]
  },
  {
   "cell_type": "code",
   "execution_count": null,
   "metadata": {
    "collapsed": false
   },
   "outputs": [],
   "source": [
    "%%time\n",
    "proposal = 'ds1'"
   ]
  },
  {
   "cell_type": "code",
   "execution_count": null,
   "metadata": {
    "collapsed": false
   },
   "outputs": [],
   "source": [
    "%%time\n",
    "p = eval(proposal)"
   ]
  },
  {
   "cell_type": "code",
   "execution_count": null,
   "metadata": {
    "collapsed": false
   },
   "outputs": [],
   "source": [
    "p.columns"
   ]
  },
  {
   "cell_type": "code",
   "execution_count": null,
   "metadata": {
    "collapsed": false
   },
   "outputs": [],
   "source": [
    "sns.palplot(cf.job_colors)"
   ]
  },
  {
   "cell_type": "code",
   "execution_count": null,
   "metadata": {
    "collapsed": false
   },
   "outputs": [],
   "source": [
    "prop = proposal\n",
    "mp.rows_of_color(prop, eval(prop), 60, ['eg', 'fur'], cf.row_colors,\n",
    "                 cf.job_colors, cols=150, job_only=True, jnum=6,\n",
    "                 cell_border=True, eg_border_color='.3', job_border_color='.55', xsize=12, ysize=13, chart_example=True)"
   ]
  },
  {
   "cell_type": "code",
   "execution_count": null,
   "metadata": {
    "collapsed": false
   },
   "outputs": [],
   "source": [
    "%%time\n",
    "mp.stripplot_distribution_in_category(ds2, cf.num_of_job_levels, 36, cf.full_time_pcnt1, cf.eg_colors, cf.job_colors,\n",
    "                                      cf.jobs_dict, cf.eg_dict_verbose, bg_alpha=.15, adjust_y_axis=False, chart_example=True)"
   ]
  },
  {
   "cell_type": "code",
   "execution_count": null,
   "metadata": {
    "collapsed": false
   },
   "outputs": [],
   "source": [
    "%%time\n",
    "mp.multiline_plot_by_eg(p, 'cat_order', 'lspcnt', [1,2,3], cf.job_strs, proposal, cf.proposal_dict, job_levels,\n",
    "                        cf.eg_colors, formatter, mnum=20, scatter=False, exclude_fur=False, full_pcnt_xscale=True)"
   ]
  },
  {
   "cell_type": "code",
   "execution_count": null,
   "metadata": {
    "collapsed": false
   },
   "outputs": [],
   "source": [
    "cf.job_strs"
   ]
  },
  {
   "cell_type": "code",
   "execution_count": null,
   "metadata": {
    "collapsed": false
   },
   "outputs": [],
   "source": [
    "%%time\n",
    "mp.single_emp_compare(20010360, 'jobp', [ds1, ds2, ds3, ds4], 'date', formatter, cf.job_strs, cf.eg_colors, cf.eg_dict, cf.num_of_job_levels, chart_example=True)"
   ]
  },
  {
   "cell_type": "code",
   "execution_count": null,
   "metadata": {
    "collapsed": false
   },
   "outputs": [],
   "source": [
    "%%time\n",
    "mp.multiline_plot_by_eg(ds3, 'jobp', 'lspcnt', [1,2,3], cf.job_strs, proposal, cf.proposal_dict, job_levels,\n",
    "                        cf.eg_colors, formatter, mnum=0, scatter=True, exclude_fur=False, full_pcnt_xscale=True, chart_example=False)"
   ]
  },
  {
   "cell_type": "code",
   "execution_count": null,
   "metadata": {
    "collapsed": false
   },
   "outputs": [],
   "source": [
    "%%time\n",
    "mp.quartile_years_in_position(p, ds4, job_levels, 40, cf.job_strs, proposal, cf.proposal_dict, cf.eg_dict,\n",
    "                              cf.job_colors, flip_x=True, flip_y=False, ysize=16, xsize=12, plot_differential=True,\n",
    "                              rotate=True, custom_color=False, cm_name='Set1', normalize_yr_scale=True, gain_loss_bg=True)"
   ]
  },
  {
   "cell_type": "code",
   "execution_count": null,
   "metadata": {
    "collapsed": false
   },
   "outputs": [],
   "source": [
    "mp.diff_range([ds1, ds2, ds3], ds4, 'cpay', [1,2,3], [1, 2, 3], formatter, 'Q', show_range=False, show_mean=True, year_clip=2030, xsize=7, ysize=5)"
   ]
  },
  {
   "cell_type": "code",
   "execution_count": null,
   "metadata": {
    "collapsed": false
   },
   "outputs": [],
   "source": [
    "cf.case_study"
   ]
  },
  {
   "cell_type": "code",
   "execution_count": null,
   "metadata": {
    "collapsed": false
   },
   "outputs": [],
   "source": [
    "%%time\n",
    "emps = [10011538, 10013767, 20011485, 30010789]\n",
    "mp.multiline_plot_by_emp(p, 'mpay', 'spcnt', emps, job_levels, cf.eg_colors, cf.job_strs, proposal, cf.proposal_dict, formatter, chart_example=False)"
   ]
  },
  {
   "cell_type": "code",
   "execution_count": null,
   "metadata": {
    "collapsed": false
   },
   "outputs": [],
   "source": [
    "%%time\n",
    "job_p = p[p.jnum==4]\n",
    "with sns.axes_style('darkgrid'):\n",
    "    mp.age_vs_spcnt(job_p, [1,2,3], 42, cf.eg_colors, cf.eg_dict, proposal, cf.proposal_dict, formatter, chart_example=False)"
   ]
  },
  {
   "cell_type": "code",
   "execution_count": null,
   "metadata": {
    "collapsed": false
   },
   "outputs": [],
   "source": [
    "%%time\n",
    "mp.violinplot_by_eg(p, 'age', proposal, cf.proposal_dict, formatter, mnum=0, scale='count', chart_example=False)"
   ]
  },
  {
   "cell_type": "code",
   "execution_count": null,
   "metadata": {
    "collapsed": false
   },
   "outputs": [],
   "source": [
    "%%time\n",
    "mp.age_kde_dist(p, cf.eg_colors, cf.eg_dict, mnum=0, chart_example=False)"
   ]
  },
  {
   "cell_type": "code",
   "execution_count": null,
   "metadata": {
    "collapsed": false
   },
   "outputs": [],
   "source": [
    "%%time\n",
    "mp.eg_diff_boxplot([ds1, p, ds3, ds4], formatter, measure='spcnt', comparison='standalone', xsize=22, year_clip=2035, chart_example=False)"
   ]
  },
  {
   "cell_type": "code",
   "execution_count": null,
   "metadata": {
    "collapsed": true
   },
   "outputs": [],
   "source": [
    "emp_list = [10011538, 10013767, 20011485, 30010789]"
   ]
  },
  {
   "cell_type": "code",
   "execution_count": null,
   "metadata": {
    "collapsed": false
   },
   "outputs": [],
   "source": [
    "prop = 'ds1'\n",
    "mp.multiline_plot_by_emp(eval(prop), 'jobp', 'date', emp_list, cf.num_of_job_levels,\n",
    "                         cf.eg_colors, cf.job_strs, prop, cf.proposal_dict, formatter, chart_example=False)"
   ]
  },
  {
   "cell_type": "code",
   "execution_count": null,
   "metadata": {
    "collapsed": false
   },
   "outputs": [],
   "source": [
    "%%time\n",
    "mp.job_level_progression(p, emp_list, '2030-12-31', job_levels,\n",
    "                          cf.eg_colors, cf.job_colors,\n",
    "                          cf.eg_counts, cf.j_changes, alpha=.1, chart_example=False)"
   ]
  },
  {
   "cell_type": "code",
   "execution_count": null,
   "metadata": {
    "collapsed": false
   },
   "outputs": [],
   "source": [
    "%%time\n",
    "mp.parallel(ds1, ds2, ds3, ds4, [1, 2, 3], 'jobp', [0, 60, 120], cf.num_of_job_levels, formatter,\n",
    "            left='sa', a_stride=70, e_stride=30, w_stride=19, xsize=5, ysize=5)"
   ]
  },
  {
   "cell_type": "code",
   "execution_count": null,
   "metadata": {
    "collapsed": false
   },
   "outputs": [],
   "source": [
    "%%time\n",
    "mnum = 0\n",
    "mnum_p = p[p.mnum==mnum].copy()\n",
    "with sns.axes_style(\"whitegrid\"):\n",
    "    ax = sns.stripplot(y='new_order', x='eg', data=mnum_p, jitter=.5, order=np.arange(1, 4),\n",
    "                       palette=cf.eg_colors, size=3, linewidth=0, split=True)\n",
    "    ax.set_axis_bgcolor('#fff5e5')\n",
    "fig = plt.gcf()\n",
    "fig.set_size_inches(5, 10)\n",
    "plt.ylim(len(mnum_p), 0)\n",
    "plt.show()"
   ]
  },
  {
   "cell_type": "code",
   "execution_count": null,
   "metadata": {
    "collapsed": false
   },
   "outputs": [],
   "source": [
    "# xval: sep_eg_order, new_order, (idx if ds4 is proposal)\n",
    "# \n",
    "mp.differential_scatter(ds4, [ds1, p, ds3], 'spcnt', 'age', 65, eg_set, \n",
    "                        formatter, prop_order=True,\n",
    "                        show_scatter=True, show_lin_reg=False, show_mean=False,\n",
    "                        mean_len=80,\n",
    "                        dot_size=20, lin_reg_order=12,\n",
    "                        ylimit=False, ylim=5,\n",
    "                        width=15, height=10, bright_bg=False, chart_style='darkgrid', chart_example=True)"
   ]
  },
  {
   "cell_type": "code",
   "execution_count": null,
   "metadata": {
    "collapsed": false
   },
   "outputs": [],
   "source": [
    "prop = 'ds1'\n",
    "mp.job_grouping_over_time(eval(prop), prop, [1,2,3], cf.job_strs, cf.job_colors,\n",
    "                          formatter, rets_only=True, time_group='A', plt_kind='bar',\n",
    "                          measure_subset='jobp', measure_val=3, measure_val2=200, operator='greater_than', display_yrs=40, legend_loc=4, xsize=11, ysize=6, chart_example=False)"
   ]
  },
  {
   "cell_type": "code",
   "execution_count": null,
   "metadata": {
    "collapsed": false
   },
   "outputs": [],
   "source": [
    "mp.quartile_bands_over_time(p, 3, 'spcnt', formatter, bins=20, clip=True, year_clip=2035, kind='area', quartile_ticks=False,\n",
    "                             custom_color=True, cm_name='Set1', quartile_alpha=.6, grid_alpha=.5, custom_start=0, custom_finish=.75,\n",
    "                             xsize=10, ysize=8, alt_bg_color=False, bg_color='#faf6eb')"
   ]
  },
  {
   "cell_type": "code",
   "execution_count": null,
   "metadata": {
    "collapsed": false
   },
   "outputs": [],
   "source": [
    "prop = 'ds1'\n",
    "base = 'ds4'\n",
    "mp.job_transfer(eval(prop), prop, eval(base), base, 3, cf.job_colors, cf.num_of_job_levels, custom_color=False, gb_period='M')"
   ]
  },
  {
   "cell_type": "markdown",
   "metadata": {},
   "source": [
    "# Make colormap"
   ]
  },
  {
   "cell_type": "code",
   "execution_count": null,
   "metadata": {
    "collapsed": false
   },
   "outputs": [],
   "source": [
    "cm_name='Paired'\n",
    "num_of_colors = 8 + 1\n",
    "cm_subsection = np.linspace(0, .75, num_of_colors)\n",
    "colormap = eval('cm.' + cm_name)\n",
    "colors = [colormap(x) for x in cm_subsection]"
   ]
  },
  {
   "cell_type": "code",
   "execution_count": null,
   "metadata": {
    "collapsed": false
   },
   "outputs": [],
   "source": [
    "colors"
   ]
  },
  {
   "cell_type": "code",
   "execution_count": null,
   "metadata": {
    "collapsed": false
   },
   "outputs": [],
   "source": [
    "sns.palplot(colors)"
   ]
  },
  {
   "cell_type": "code",
   "execution_count": null,
   "metadata": {
    "collapsed": false
   },
   "outputs": [],
   "source": [
    "%%time\n",
    "cf.job_colors"
   ]
  },
  {
   "cell_type": "code",
   "execution_count": null,
   "metadata": {
    "collapsed": false
   },
   "outputs": [],
   "source": [
    "%%time\n",
    "sns.palplot(cf.job_colors)"
   ]
  },
  {
   "cell_type": "code",
   "execution_count": null,
   "metadata": {
    "collapsed": false
   },
   "outputs": [],
   "source": [
    "%%time\n",
    "ds1.columns"
   ]
  },
  {
   "cell_type": "code",
   "execution_count": null,
   "metadata": {
    "collapsed": false
   },
   "outputs": [],
   "source": [
    "%%time\n",
    "empnum = 20011327\n",
    "mp.emp_quick_glance(empnum, ds3)"
   ]
  },
  {
   "cell_type": "code",
   "execution_count": null,
   "metadata": {
    "collapsed": false
   },
   "outputs": [],
   "source": [
    "%%time\n",
    "empnum = 20011327\n",
    "measure = ['cat_order']\n",
    "with sns.axes_style('darkgrid'):\n",
    "    p.loc[empnum].set_index('date')[measure].plot()\n",
    "plt.gca().invert_yaxis()\n",
    "\n",
    "for attr in measure:\n",
    "    if attr in ['jnum', 'jobp']:\n",
    "        plt.yticks = (np.arange(17, 0, 1))\n",
    "        plt.ylim(17.5, 0)\n",
    "        break\n",
    "    if attr in ['spcnt', 'lspcnt']:\n",
    "        plt.gca().yaxis.set_major_formatter(formatter)\n",
    "        plt.yticks(np.arange(0, 1.05, .05))\n",
    "        break\n",
    "plt.show()"
   ]
  },
  {
   "cell_type": "markdown",
   "metadata": {},
   "source": [
    "#### plt scatter method..."
   ]
  },
  {
   "cell_type": "code",
   "execution_count": null,
   "metadata": {
    "collapsed": false
   },
   "outputs": [],
   "source": [
    "%%time\n",
    "emp_list = [10011538, 10013767, 20011485, 30010789]\n",
    "ds = p\n",
    "measure1 = 'age'\n",
    "measure2 = 'cat_order'\n",
    "i = 0\n",
    "for emp in emp_list:\n",
    "    plt.scatter(ds.loc[emp][measure1], ds.loc[emp][measure2].pct_change(), c=cf.color1[i], linewidth=0, label=emp)\n",
    "    i += 1\n",
    "ax = plt.gca()\n",
    "ax.invert_yaxis()\n",
    "#ax.invert_xaxis()\n",
    "plt.xlabel(measure1)\n",
    "plt.ylabel(measure2)\n",
    "plt.legend(loc='best')\n",
    "plt.title('percent change', y=1.02)\n",
    "plt.ylim(.02, -.12)\n",
    "plt.show()"
   ]
  },
  {
   "cell_type": "code",
   "execution_count": null,
   "metadata": {
    "collapsed": false
   },
   "outputs": [],
   "source": [
    "%%time\n",
    "ds4.jnum.max()"
   ]
  },
  {
   "cell_type": "code",
   "execution_count": null,
   "metadata": {
    "collapsed": false
   },
   "outputs": [],
   "source": [
    "%%time\n",
    "eg = 1\n",
    "base = ds4\n",
    "eg_list = [1, 2, 3]\n",
    "plot_egs_sep = True\n",
    "xsize=7\n",
    "ysize=5"
   ]
  },
  {
   "cell_type": "code",
   "execution_count": null,
   "metadata": {
    "collapsed": false
   },
   "outputs": [],
   "source": [
    "%%time\n",
    "base[base.eg==2].groupby(['date', 'jnum']).size().astype(int).unstack().plot()\n",
    "p[p.eg==2].groupby(['date', 'jnum']).size().astype(int).unstack().plot()\n",
    "plt.show()"
   ]
  },
  {
   "cell_type": "markdown",
   "metadata": {},
   "source": [
    "### slicing and groupby month"
   ]
  },
  {
   "cell_type": "code",
   "execution_count": null,
   "metadata": {
    "collapsed": false
   },
   "outputs": [],
   "source": [
    "%%time\n",
    "measure = 'lspcnt'\n",
    "fig, ax = plt.subplots(111)\n",
    "ax = plt.subplot(111)\n",
    "df = p[p.age > 50]\n",
    "for eg in np.unique(df.eg):\n",
    "    col_name = 'group ' + str(eg) + ' ' + measure\n",
    "    df_jobp = pd.DataFrame(df[df.eg==eg][['date', measure]].groupby('date').mean().unstack().fillna(0), columns=[col_name])\n",
    "    df_jobp.reset_index()[['date', col_name]].set_index('date').plot(c=cf.eg_colors[eg - 1], label=cf.eg_dict_verbose[eg], ax=ax)\n",
    "ax.invert_yaxis()\n",
    "plt.show()"
   ]
  },
  {
   "cell_type": "code",
   "execution_count": null,
   "metadata": {
    "collapsed": false
   },
   "outputs": [],
   "source": [
    "%%time\n",
    "mp.job_count_charts(p, ds4, plot_egs_sep=False)"
   ]
  },
  {
   "cell_type": "code",
   "execution_count": null,
   "metadata": {
    "collapsed": false
   },
   "outputs": [],
   "source": [
    "%%time\n",
    "proposal = 'ds1'\n",
    "mp.eg_multiplot_with_cat_order(eval(proposal), proposal, 40, 'cat_order', 'lspcnt', formatter, cf.proposal_dict, cf.job_strs, cf.job_colors, cf.num_of_job_levels)"
   ]
  },
  {
   "cell_type": "code",
   "execution_count": null,
   "metadata": {
    "collapsed": false
   },
   "outputs": [],
   "source": []
  },
  {
   "cell_type": "code",
   "execution_count": null,
   "metadata": {
    "collapsed": true
   },
   "outputs": [],
   "source": []
  },
  {
   "cell_type": "code",
   "execution_count": null,
   "metadata": {
    "collapsed": true
   },
   "outputs": [],
   "source": []
  },
  {
   "cell_type": "code",
   "execution_count": null,
   "metadata": {
    "collapsed": true
   },
   "outputs": [],
   "source": []
  },
  {
   "cell_type": "code",
   "execution_count": null,
   "metadata": {
    "collapsed": true
   },
   "outputs": [],
   "source": []
  },
  {
   "cell_type": "code",
   "execution_count": null,
   "metadata": {
    "collapsed": true
   },
   "outputs": [],
   "source": []
  },
  {
   "cell_type": "code",
   "execution_count": null,
   "metadata": {
    "collapsed": true
   },
   "outputs": [],
   "source": []
  },
  {
   "cell_type": "code",
   "execution_count": null,
   "metadata": {
    "collapsed": true
   },
   "outputs": [],
   "source": []
  },
  {
   "cell_type": "code",
   "execution_count": null,
   "metadata": {
    "collapsed": true
   },
   "outputs": [],
   "source": []
  },
  {
   "cell_type": "code",
   "execution_count": null,
   "metadata": {
    "collapsed": true
   },
   "outputs": [],
   "source": []
  },
  {
   "cell_type": "code",
   "execution_count": null,
   "metadata": {
    "collapsed": true
   },
   "outputs": [],
   "source": []
  },
  {
   "cell_type": "code",
   "execution_count": null,
   "metadata": {
    "collapsed": true
   },
   "outputs": [],
   "source": []
  },
  {
   "cell_type": "code",
   "execution_count": null,
   "metadata": {
    "collapsed": true
   },
   "outputs": [],
   "source": []
  },
  {
   "cell_type": "code",
   "execution_count": null,
   "metadata": {
    "collapsed": true
   },
   "outputs": [],
   "source": []
  },
  {
   "cell_type": "code",
   "execution_count": null,
   "metadata": {
    "collapsed": true
   },
   "outputs": [],
   "source": []
  },
  {
   "cell_type": "code",
   "execution_count": null,
   "metadata": {
    "collapsed": true
   },
   "outputs": [],
   "source": []
  },
  {
   "cell_type": "code",
   "execution_count": null,
   "metadata": {
    "collapsed": true
   },
   "outputs": [],
   "source": []
  },
  {
   "cell_type": "code",
   "execution_count": null,
   "metadata": {
    "collapsed": true
   },
   "outputs": [],
   "source": []
  },
  {
   "cell_type": "code",
   "execution_count": null,
   "metadata": {
    "collapsed": true
   },
   "outputs": [],
   "source": []
  }
 ],
 "metadata": {
  "kernelspec": {
   "display_name": "Python 3",
   "language": "python",
   "name": "python3"
  },
  "language_info": {
   "codemirror_mode": {
    "name": "ipython",
    "version": 3
   },
   "file_extension": ".py",
   "mimetype": "text/x-python",
   "name": "python",
   "nbconvert_exporter": "python",
   "pygments_lexer": "ipython3",
   "version": "3.5.1"
  },
  "widgets": {
   "state": {},
   "version": "1.1.2"
  }
 },
 "nbformat": 4,
 "nbformat_minor": 0
}
