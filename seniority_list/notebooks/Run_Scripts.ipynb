{
 "cells": [
  {
   "cell_type": "markdown",
   "metadata": {
    "collapsed": true
   },
   "source": [
    "RESTART Prior to Running if any changes made in source files..."
   ]
  },
  {
   "cell_type": "markdown",
   "metadata": {},
   "source": [
    "### import configuration and functions modules\n",
    "list_builder also imported for the hybrid list creation example below"
   ]
  },
  {
   "cell_type": "code",
   "execution_count": 1,
   "metadata": {
    "collapsed": false
   },
   "outputs": [
    {
     "name": "stdout",
     "output_type": "stream",
     "text": [
      "CPU times: user 644 ms, sys: 56 ms, total: 700 ms\n",
      "Wall time: 1.17 s\n"
     ]
    }
   ],
   "source": [
    "%%time\n",
    "import config as cf\n",
    "import functions as f\n",
    "import list_builder as lb"
   ]
  },
  {
   "cell_type": "markdown",
   "metadata": {},
   "source": [
    "### build pkl files\n",
    "master, fur, sg(special group), active_each_month, order proposals, month percentage, initial editor values"
   ]
  },
  {
   "cell_type": "code",
   "execution_count": 2,
   "metadata": {
    "collapsed": false
   },
   "outputs": [
    {
     "name": "stdout",
     "output_type": "stream",
     "text": [
      "CPU times: user 2.36 s, sys: 96 ms, total: 2.45 s\n",
      "Wall time: 2.37 s\n"
     ]
    }
   ],
   "source": [
    "%%time\n",
    "%run build_program_files"
   ]
  },
  {
   "cell_type": "markdown",
   "metadata": {},
   "source": [
    "### build compensation tables\n",
    "convert from input Excel file, detects config sample_mode if selected"
   ]
  },
  {
   "cell_type": "code",
   "execution_count": 3,
   "metadata": {
    "collapsed": false
   },
   "outputs": [
    {
     "name": "stdout",
     "output_type": "stream",
     "text": [
      "CPU times: user 244 ms, sys: 0 ns, total: 244 ms\n",
      "Wall time: 249 ms\n"
     ]
    }
   ],
   "source": [
    "%%time\n",
    "%run make_pay_tables_from_excel"
   ]
  },
  {
   "cell_type": "markdown",
   "metadata": {},
   "source": [
    "### generate the skeleton file"
   ]
  },
  {
   "cell_type": "code",
   "execution_count": 4,
   "metadata": {
    "collapsed": false
   },
   "outputs": [
    {
     "name": "stdout",
     "output_type": "stream",
     "text": [
      "CPU times: user 796 ms, sys: 128 ms, total: 924 ms\n",
      "Wall time: 968 ms\n"
     ]
    }
   ],
   "source": [
    "%%time\n",
    "%run make_skeleton master"
   ]
  },
  {
   "cell_type": "markdown",
   "metadata": {},
   "source": [
    "### standalone\n",
    "standalone must be rerun after job level model change (option is in the config file - enhanced or basic)..."
   ]
  },
  {
   "cell_type": "code",
   "execution_count": 5,
   "metadata": {
    "collapsed": false
   },
   "outputs": [
    {
     "name": "stdout",
     "output_type": "stream",
     "text": [
      "CPU times: user 2.08 s, sys: 312 ms, total: 2.39 s\n",
      "Wall time: 2.7 s\n"
     ]
    }
   ],
   "source": [
    "%%time\n",
    "if cf.compute_with_job_changes:\n",
    "    %run standalone_with_job_changes skel\n",
    "else:\n",
    "    %run standalone_no_job_changes skel"
   ]
  },
  {
   "cell_type": "markdown",
   "metadata": {},
   "source": [
    "### Create dataset for each list order\n",
    "(including list conditions, job count changes, and possible furlough recall schedule).\n",
    "The p1, p2, and p3 inputs represent different list order proposals - source is the pickle files generated with the build_program_files script.\n",
    "The \"supc\", \"ratio\", and \"count\" inputs represent conditional job assignment functions to be applied."
   ]
  },
  {
   "cell_type": "code",
   "execution_count": 6,
   "metadata": {
    "collapsed": false
   },
   "outputs": [
    {
     "name": "stdout",
     "output_type": "stream",
     "text": [
      "['supc', 'ratio']\n",
      "CPU times: user 2 s, sys: 404 ms, total: 2.4 s\n",
      "Wall time: 2.47 s\n"
     ]
    }
   ],
   "source": [
    "%%time\n",
    "%run compute_measures p1 supc ratio"
   ]
  },
  {
   "cell_type": "code",
   "execution_count": 7,
   "metadata": {
    "collapsed": false
   },
   "outputs": [
    {
     "name": "stdout",
     "output_type": "stream",
     "text": [
      "['supc', 'count']\n",
      "CPU times: user 2.08 s, sys: 320 ms, total: 2.4 s\n",
      "Wall time: 2.49 s\n"
     ]
    }
   ],
   "source": [
    "%%time\n",
    "%run compute_measures p2 supc count"
   ]
  },
  {
   "cell_type": "code",
   "execution_count": 8,
   "metadata": {
    "collapsed": false
   },
   "outputs": [
    {
     "name": "stdout",
     "output_type": "stream",
     "text": [
      "['supc']\n",
      "CPU times: user 1.98 s, sys: 332 ms, total: 2.31 s\n",
      "Wall time: 2.54 s\n"
     ]
    }
   ],
   "source": [
    "%%time\n",
    "%run compute_measures p3 supc"
   ]
  },
  {
   "cell_type": "markdown",
   "metadata": {},
   "source": [
    "### merge an ordered list with the master list"
   ]
  },
  {
   "cell_type": "code",
   "execution_count": 9,
   "metadata": {
    "collapsed": false
   },
   "outputs": [
    {
     "name": "stdout",
     "output_type": "stream",
     "text": [
      "CPU times: user 2.19 s, sys: 8 ms, total: 2.2 s\n",
      "Wall time: 2.2 s\n"
     ]
    }
   ],
   "source": [
    "%%time\n",
    "%run join_inactives master p1 final ffill"
   ]
  },
  {
   "cell_type": "markdown",
   "metadata": {},
   "source": [
    "### config file options viewer:"
   ]
  },
  {
   "cell_type": "code",
   "execution_count": 10,
   "metadata": {
    "collapsed": false
   },
   "outputs": [
    {
     "name": "stdout",
     "output_type": "stream",
     "text": [
      "CPU times: user 0 ns, sys: 0 ns, total: 0 ns\n",
      "Wall time: 2.52 ms\n"
     ]
    },
    {
     "data": {
      "text/html": [
       "<div>\n",
       "<table border=\"1\" class=\"dataframe\">\n",
       "  <thead>\n",
       "    <tr style=\"text-align: right;\">\n",
       "      <th></th>\n",
       "      <th>setting</th>\n",
       "    </tr>\n",
       "    <tr>\n",
       "      <th>option</th>\n",
       "      <th></th>\n",
       "    </tr>\n",
       "  </thead>\n",
       "  <tbody>\n",
       "    <tr>\n",
       "      <th>actives_only</th>\n",
       "      <td>False</td>\n",
       "    </tr>\n",
       "    <tr>\n",
       "      <th>annual_pcnt_raise</th>\n",
       "      <td>0.02</td>\n",
       "    </tr>\n",
       "    <tr>\n",
       "      <th>apply_count_cond</th>\n",
       "      <td>True</td>\n",
       "    </tr>\n",
       "    <tr>\n",
       "      <th>apply_ratio_cond</th>\n",
       "      <td>True</td>\n",
       "    </tr>\n",
       "    <tr>\n",
       "      <th>apply_supc</th>\n",
       "      <td>True</td>\n",
       "    </tr>\n",
       "    <tr>\n",
       "      <th>case_study</th>\n",
       "      <td>sample3</td>\n",
       "    </tr>\n",
       "    <tr>\n",
       "      <th>compute_job_category_order</th>\n",
       "      <td>True</td>\n",
       "    </tr>\n",
       "    <tr>\n",
       "      <th>compute_pay_measures</th>\n",
       "      <td>True</td>\n",
       "    </tr>\n",
       "    <tr>\n",
       "      <th>delayed_implementation</th>\n",
       "      <td>True</td>\n",
       "    </tr>\n",
       "    <tr>\n",
       "      <th>edit_mode</th>\n",
       "      <td>False</td>\n",
       "    </tr>\n",
       "    <tr>\n",
       "      <th>enhanced_jobs</th>\n",
       "      <td>True</td>\n",
       "    </tr>\n",
       "    <tr>\n",
       "      <th>full_time_pcnt1</th>\n",
       "      <td>0.6</td>\n",
       "    </tr>\n",
       "    <tr>\n",
       "      <th>full_time_pcnt2</th>\n",
       "      <td>0.65</td>\n",
       "    </tr>\n",
       "    <tr>\n",
       "      <th>implementation_date</th>\n",
       "      <td>2016-10-31</td>\n",
       "    </tr>\n",
       "    <tr>\n",
       "      <th>lspcnt_calc_on_remaining_population</th>\n",
       "      <td>False</td>\n",
       "    </tr>\n",
       "    <tr>\n",
       "      <th>no_bump</th>\n",
       "      <td>True</td>\n",
       "    </tr>\n",
       "    <tr>\n",
       "      <th>num_of_job_levels</th>\n",
       "      <td>16</td>\n",
       "    </tr>\n",
       "    <tr>\n",
       "      <th>pay_raise</th>\n",
       "      <td>False</td>\n",
       "    </tr>\n",
       "    <tr>\n",
       "      <th>recall</th>\n",
       "      <td>True</td>\n",
       "    </tr>\n",
       "    <tr>\n",
       "      <th>starting_date</th>\n",
       "      <td>2013-12-31</td>\n",
       "    </tr>\n",
       "    <tr>\n",
       "      <th>top_of_scale</th>\n",
       "      <td>12</td>\n",
       "    </tr>\n",
       "  </tbody>\n",
       "</table>\n",
       "</div>"
      ],
      "text/plain": [
       "                                        setting\n",
       "option                                         \n",
       "actives_only                              False\n",
       "annual_pcnt_raise                          0.02\n",
       "apply_count_cond                           True\n",
       "apply_ratio_cond                           True\n",
       "apply_supc                                 True\n",
       "case_study                              sample3\n",
       "compute_job_category_order                 True\n",
       "compute_pay_measures                       True\n",
       "delayed_implementation                     True\n",
       "edit_mode                                 False\n",
       "enhanced_jobs                              True\n",
       "full_time_pcnt1                             0.6\n",
       "full_time_pcnt2                            0.65\n",
       "implementation_date                  2016-10-31\n",
       "lspcnt_calc_on_remaining_population       False\n",
       "no_bump                                    True\n",
       "num_of_job_levels                            16\n",
       "pay_raise                                 False\n",
       "recall                                     True\n",
       "starting_date                        2013-12-31\n",
       "top_of_scale                                 12"
      ]
     },
     "execution_count": 10,
     "metadata": {},
     "output_type": "execute_result"
    }
   ],
   "source": [
    "%%time\n",
    "f.print_config_selections()"
   ]
  },
  {
   "cell_type": "markdown",
   "metadata": {},
   "source": [
    "## cells below for demonstration only"
   ]
  },
  {
   "cell_type": "markdown",
   "metadata": {},
   "source": [
    "### build a 'hybrid' list example:\n",
    "(stored as 'dill/hybrid.pkl')"
   ]
  },
  {
   "cell_type": "code",
   "execution_count": 11,
   "metadata": {
    "collapsed": false
   },
   "outputs": [
    {
     "name": "stdout",
     "output_type": "stream",
     "text": [
      "CPU times: user 124 ms, sys: 0 ns, total: 124 ms\n",
      "Wall time: 124 ms\n"
     ]
    }
   ],
   "source": [
    "%%time\n",
    "prepared_master = lb.prepare_master_list()\n",
    "lb.build_list(prepared_master, ['ldate', 'jobp'], [.5, .5])"
   ]
  },
  {
   "cell_type": "markdown",
   "metadata": {},
   "source": [
    "### samples of files created"
   ]
  },
  {
   "cell_type": "code",
   "execution_count": 12,
   "metadata": {
    "collapsed": false
   },
   "outputs": [
    {
     "name": "stdout",
     "output_type": "stream",
     "text": [
      "< MASTER > \n",
      " row count: 7510 \n",
      " column count: 11 \n",
      " Index(['empkey', 'eg', 'lname', 'dob', 'retdate', 'doh', 'ldate', 'sg', 'fur',\n",
      "       'line', 'eg_order'],\n",
      "      dtype='object') \n",
      " \n",
      "             empkey  eg    lname        dob    retdate        doh      ldate  \\\n",
      "empkey                                                                        \n",
      "10011102  10011102   1  tooeyoo 1949-07-13 2014-07-13 1973-02-26 1975-01-29   \n",
      "10010475  10010475   1  rubelot 1949-02-05 2014-02-05 1975-05-27 1975-05-27   \n",
      "10013096  10013096   1  yeloxid 1949-01-08 2014-01-08 1977-01-18 1977-01-18   \n",
      "10012178  10012178   1  xayeaue 1951-06-07 2016-06-07 1977-11-15 1977-11-15   \n",
      "10014447  10014447   1  finuceu 1951-10-17 2016-10-17 1977-12-09 1977-12-09   \n",
      "\n",
      "          sg  fur  line  eg_order  \n",
      "empkey                             \n",
      "10011102   0    0     1         1  \n",
      "10010475   0    0     1         2  \n",
      "10013096   0    0     1         3  \n",
      "10012178   0    0     1         4  \n",
      "10014447   0    0     1         5   \n",
      "\n",
      " -------------------------------------------------------------------------------- \n",
      "\n",
      "< SKEL > \n",
      " row count: 930850 \n",
      " column count: 18 \n",
      " Index(['mnum', 'idx', 'empkey', 'mth_pcnt', 'date', 'year', 'pay_raise', 'eg',\n",
      "       'retdate', 'doh', 'ldate', 'lname', 'line', 'sg', 'fur', 'scale',\n",
      "       's_lmonths', 'age'],\n",
      "      dtype='object') \n",
      " \n",
      "           mnum  idx    empkey  mth_pcnt       date    year  pay_raise  eg  \\\n",
      "empkey                                                                      \n",
      "10011102     0    0  10011102       1.0 2013-12-31  2013.0        1.0   1   \n",
      "10010475     0    1  10010475       1.0 2013-12-31  2013.0        1.0   1   \n",
      "10013096     0    2  10013096       1.0 2013-12-31  2013.0        1.0   1   \n",
      "10012178     0    3  10012178       1.0 2013-12-31  2013.0        1.0   1   \n",
      "10014447     0    4  10014447       1.0 2013-12-31  2013.0        1.0   1   \n",
      "\n",
      "            retdate        doh      ldate    lname  line  sg  fur  scale  \\\n",
      "empkey                                                                     \n",
      "10011102 2014-07-13 1973-02-26 1975-01-29  tooeyoo     1   0    0     12   \n",
      "10010475 2014-02-05 1975-05-27 1975-05-27  rubelot     1   0    0     12   \n",
      "10013096 2014-01-08 1977-01-18 1977-01-18  yeloxid     1   0    0     12   \n",
      "10012178 2016-06-07 1977-11-15 1977-11-15  xayeaue     1   0    0     12   \n",
      "10014447 2016-10-17 1977-12-09 1977-12-09  finuceu     1   0    0     12   \n",
      "\n",
      "          s_lmonths        age  \n",
      "empkey                          \n",
      "10011102        467  64.465054  \n",
      "10010475        463  64.903226  \n",
      "10013096        443  64.978495  \n",
      "10012178        433  62.564516  \n",
      "10014447        432  62.204301   \n",
      "\n",
      " -------------------------------------------------------------------------------- \n",
      "\n",
      "< STAND > \n",
      " row count: 930850 \n",
      " column count: 30 \n",
      " Index(['mnum', 'idx', 'empkey', 'mth_pcnt', 'date', 'year', 'pay_raise', 'eg',\n",
      "       'retdate', 'doh', 'ldate', 'lname', 'line', 'sg', 'fur', 'scale',\n",
      "       's_lmonths', 'age', 'held', 'job_count', 'orig_job', 'jnum', 'lnum',\n",
      "       'lspcnt', 'snum', 'spcnt', 'rank_in_job', 'jobp', 'mpay', 'cpay'],\n",
      "      dtype='object') \n",
      " \n",
      "           mnum   idx    empkey  mth_pcnt       date    year  pay_raise  eg  \\\n",
      "empkey                                                                       \n",
      "10011102     0     0  10011102       1.0 2013-12-31  2013.0        1.0   1   \n",
      "20010692     0  4256  20010692       1.0 2013-12-31  2013.0        1.0   2   \n",
      "30010651     0  5705  30010651       1.0 2013-12-31  2013.0        1.0   3   \n",
      "10010475     0     1  10010475       1.0 2013-12-31  2013.0        1.0   1   \n",
      "20011034     0  4257  20011034       1.0 2013-12-31  2013.0        1.0   2   \n",
      "\n",
      "            retdate        doh   ...    orig_job jnum  lnum    lspcnt  snum  \\\n",
      "empkey                           ...                                          \n",
      "10011102 2014-07-13 1973-02-26   ...           0    1     1  0.000235   1.0   \n",
      "20010692 2016-03-04 1974-04-16   ...           0    1     1  0.000690   1.0   \n",
      "30010651 2019-02-17 1983-06-14   ...           0    3     1  0.001408   1.0   \n",
      "10010475 2014-02-05 1975-05-27   ...           0    1     2  0.000470   2.0   \n",
      "20011034 2014-07-15 1977-03-12   ...           0    1     2  0.001380   2.0   \n",
      "\n",
      "             spcnt  rank_in_job      jobp     mpay     cpay  \n",
      "empkey                                                       \n",
      "10011102  0.000257            1  1.008375  11.0415  11.0415  \n",
      "20010692  0.000689            1  1.020733  11.0415  11.0415  \n",
      "30010651  0.001458            1  3.062400   9.3840   9.3840  \n",
      "10010475  0.000515            2  1.016849  11.0415  11.0415  \n",
      "20011034  0.001378            2  1.041567  11.0415  11.0415  \n",
      "\n",
      "[5 rows x 30 columns] \n",
      "\n",
      " -------------------------------------------------------------------------------- \n",
      "\n",
      "< ACTIVE_EACH_MONTH > \n",
      " row count: 453 \n",
      " column count: 1 \n",
      " Index(['count'], dtype='object') \n",
      " \n",
      "    count\n",
      "0   6052\n",
      "1   6050\n",
      "2   6039\n",
      "3   6027\n",
      "4   6017 \n",
      "\n",
      " -------------------------------------------------------------------------------- \n",
      "\n",
      "< P1 > \n",
      " row count: 7510 \n",
      " column count: 1 \n",
      " Index(['idx'], dtype='object') \n",
      " \n",
      "           idx\n",
      "empkey       \n",
      "10011102    1\n",
      "10010475    2\n",
      "10013096    3\n",
      "10012178    4\n",
      "10014447    5 \n",
      "\n",
      " -------------------------------------------------------------------------------- \n",
      "\n",
      "< PAY_TABLE_ENHANCED_WITH_FUR_INDEXED > \n",
      " row count: 1632 \n",
      " column count: 1 \n",
      " Index(['monthly'], dtype='object') \n",
      " \n",
      "              monthly\n",
      "ptindex             \n",
      "201300101.0  2152.20\n",
      "201300102.0  1873.68\n",
      "201300103.0  2152.20\n",
      "201300104.0  2152.20\n",
      "201300105.0  1873.68 \n",
      "\n",
      " -------------------------------------------------------------------------------- \n",
      "\n",
      "< DS1 > \n",
      " row count: 930850 \n",
      " column count: 35 \n",
      " Index(['mnum', 'idx', 'empkey', 'mth_pcnt', 'date', 'year', 'pay_raise', 'eg',\n",
      "       'retdate', 'doh', 'ldate', 'lname', 'line', 'sg', 'fur', 'scale',\n",
      "       's_lmonths', 'age', 'new_order', 'orig_job', 'func_job', 'jnum', 'fbff',\n",
      "       'snum', 'spcnt', 'lnum', 'lspcnt', 'rank_in_job', 'job_count', 'jobp',\n",
      "       'cat_order', 'mlong', 'ylong', 'mpay', 'cpay'],\n",
      "      dtype='object') \n",
      " \n",
      "           mnum  idx    empkey  mth_pcnt       date    year  pay_raise  eg  \\\n",
      "empkey                                                                      \n",
      "10011102     0    0  10011102       1.0 2013-12-31  2013.0        1.0   1   \n",
      "10010475     0    1  10010475       1.0 2013-12-31  2013.0        1.0   1   \n",
      "10013096     0    2  10013096       1.0 2013-12-31  2013.0        1.0   1   \n",
      "10012178     0    3  10012178       1.0 2013-12-31  2013.0        1.0   1   \n",
      "10014447     0    4  10014447       1.0 2013-12-31  2013.0        1.0   1   \n",
      "\n",
      "            retdate        doh   ...    lnum    lspcnt  rank_in_job  \\\n",
      "empkey                           ...                                  \n",
      "10011102 2014-07-13 1973-02-26   ...       1  0.000156            1   \n",
      "10010475 2014-02-05 1975-05-27   ...       2  0.000312            2   \n",
      "10013096 2014-01-08 1977-01-18   ...       3  0.000468            3   \n",
      "10012178 2016-06-07 1977-11-15   ...       4  0.000624            4   \n",
      "10014447 2016-10-17 1977-12-09   ...       5  0.000779            5   \n",
      "\n",
      "          job_count      jobp  cat_order  mlong      ylong     mpay     cpay  \n",
      "empkey                                                                        \n",
      "10011102        166  1.005024          1    468  39.000000  11.0415  11.0415  \n",
      "10010475        166  1.011048          2    464  38.666667  11.0415  11.0415  \n",
      "10013096        166  1.017072          3    444  37.000000  11.0415  11.0415  \n",
      "10012178        166  1.023096          4    434  36.166667  11.0415  11.0415  \n",
      "10014447        166  1.029120          5    433  36.083333  11.0415  11.0415  \n",
      "\n",
      "[5 rows x 35 columns] \n",
      "\n",
      " -------------------------------------------------------------------------------- \n",
      "\n",
      "< HYBRID > \n",
      " row count: 6415 \n",
      " column count: 1 \n",
      " Index(['idx'], dtype='object') \n",
      " \n",
      "           idx\n",
      "empkey       \n",
      "10011102    1\n",
      "10010475    2\n",
      "20010692    3\n",
      "10013096    4\n",
      "20011034    5 \n",
      "\n",
      " -------------------------------------------------------------------------------- \n",
      "\n",
      "< SAMPLE3_FINAL > \n",
      " row count: 7510 \n",
      " column count: 12 \n",
      " Index(['empkey', 'eg', 'lname', 'dob', 'retdate', 'doh', 'ldate', 'sg', 'fur',\n",
      "       'line', 'eg_order', 'snum'],\n",
      "      dtype='object') \n",
      " \n",
      "             empkey  eg    lname        dob    retdate        doh      ldate  \\\n",
      "empkey                                                                        \n",
      "10011102  10011102   1  tooeyoo 1949-07-13 2014-07-13 1973-02-26 1975-01-29   \n",
      "10010475  10010475   1  rubelot 1949-02-05 2014-02-05 1975-05-27 1975-05-27   \n",
      "10013096  10013096   1  yeloxid 1949-01-08 2014-01-08 1977-01-18 1977-01-18   \n",
      "10012178  10012178   1  xayeaue 1951-06-07 2016-06-07 1977-11-15 1977-11-15   \n",
      "10014447  10014447   1  finuceu 1951-10-17 2016-10-17 1977-12-09 1977-12-09   \n",
      "\n",
      "          sg  fur  line  eg_order  snum  \n",
      "empkey                                   \n",
      "10011102   0    0     1         1     1  \n",
      "10010475   0    0     1         2     2  \n",
      "10013096   0    0     1         3     3  \n",
      "10012178   0    0     1         4     4  \n",
      "10014447   0    0     1         5     5   \n",
      "\n",
      " -------------------------------------------------------------------------------- \n",
      "\n",
      "CPU times: user 188 ms, sys: 112 ms, total: 300 ms\n",
      "Wall time: 298 ms\n"
     ]
    }
   ],
   "source": [
    "%%time\n",
    "file_names = ['master', 'skel', 'stand', 'active_each_month', 'p1', 'pay_table_enhanced_with_fur_indexed', 'ds1', 'hybrid', cf.case_study + '_final']\n",
    "for file in file_names:\n",
    "    df = pd.read_pickle('dill/' + file + '.pkl')\n",
    "    print('< ' + file.upper() + ' >', '\\n', 'row count: ' + str(len(df)),\n",
    "        '\\n', 'column count: '+ str(len(df.columns)), '\\n',\n",
    "        df.columns, '\\n',\n",
    "        '\\n', df.head(), '\\n\\n', '-' * 80, '\\n')"
   ]
  },
  {
   "cell_type": "code",
   "execution_count": null,
   "metadata": {
    "collapsed": true
   },
   "outputs": [],
   "source": []
  },
  {
   "cell_type": "code",
   "execution_count": null,
   "metadata": {
    "collapsed": true
   },
   "outputs": [],
   "source": []
  },
  {
   "cell_type": "code",
   "execution_count": null,
   "metadata": {
    "collapsed": true
   },
   "outputs": [],
   "source": []
  },
  {
   "cell_type": "code",
   "execution_count": null,
   "metadata": {
    "collapsed": true
   },
   "outputs": [],
   "source": []
  },
  {
   "cell_type": "code",
   "execution_count": null,
   "metadata": {
    "collapsed": true
   },
   "outputs": [],
   "source": []
  },
  {
   "cell_type": "code",
   "execution_count": null,
   "metadata": {
    "collapsed": true
   },
   "outputs": [],
   "source": []
  },
  {
   "cell_type": "code",
   "execution_count": null,
   "metadata": {
    "collapsed": true
   },
   "outputs": [],
   "source": []
  },
  {
   "cell_type": "code",
   "execution_count": null,
   "metadata": {
    "collapsed": true
   },
   "outputs": [],
   "source": []
  },
  {
   "cell_type": "code",
   "execution_count": null,
   "metadata": {
    "collapsed": true
   },
   "outputs": [],
   "source": []
  },
  {
   "cell_type": "code",
   "execution_count": null,
   "metadata": {
    "collapsed": true
   },
   "outputs": [],
   "source": []
  },
  {
   "cell_type": "code",
   "execution_count": null,
   "metadata": {
    "collapsed": true
   },
   "outputs": [],
   "source": []
  },
  {
   "cell_type": "code",
   "execution_count": null,
   "metadata": {
    "collapsed": true
   },
   "outputs": [],
   "source": []
  },
  {
   "cell_type": "code",
   "execution_count": null,
   "metadata": {
    "collapsed": true
   },
   "outputs": [],
   "source": []
  },
  {
   "cell_type": "code",
   "execution_count": null,
   "metadata": {
    "collapsed": true
   },
   "outputs": [],
   "source": []
  },
  {
   "cell_type": "code",
   "execution_count": null,
   "metadata": {
    "collapsed": true
   },
   "outputs": [],
   "source": []
  },
  {
   "cell_type": "code",
   "execution_count": null,
   "metadata": {
    "collapsed": true
   },
   "outputs": [],
   "source": []
  },
  {
   "cell_type": "code",
   "execution_count": null,
   "metadata": {
    "collapsed": true
   },
   "outputs": [],
   "source": []
  },
  {
   "cell_type": "code",
   "execution_count": null,
   "metadata": {
    "collapsed": true
   },
   "outputs": [],
   "source": []
  },
  {
   "cell_type": "code",
   "execution_count": null,
   "metadata": {
    "collapsed": true
   },
   "outputs": [],
   "source": []
  },
  {
   "cell_type": "code",
   "execution_count": null,
   "metadata": {
    "collapsed": true
   },
   "outputs": [],
   "source": []
  },
  {
   "cell_type": "code",
   "execution_count": null,
   "metadata": {
    "collapsed": true
   },
   "outputs": [],
   "source": []
  }
 ],
 "metadata": {
  "kernelspec": {
   "display_name": "Python 3",
   "language": "python",
   "name": "python3"
  },
  "language_info": {
   "codemirror_mode": {
    "name": "ipython",
    "version": 3
   },
   "file_extension": ".py",
   "mimetype": "text/x-python",
   "name": "python",
   "nbconvert_exporter": "python",
   "pygments_lexer": "ipython3",
   "version": "3.5.1"
  },
  "widgets": {
   "state": {},
   "version": "1.1.2"
  }
 },
 "nbformat": 4,
 "nbformat_minor": 0
}
