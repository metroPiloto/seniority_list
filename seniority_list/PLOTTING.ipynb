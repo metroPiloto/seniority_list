{
 "cells": [
  {
   "cell_type": "markdown",
   "metadata": {},
   "source": [
    "### Plotting notebook\n",
    "\n",
    "##### To view the docstrings for all plotting functions below, click within the name of the function and then use keyboard combination Shift+TAB."
   ]
  },
  {
   "cell_type": "markdown",
   "metadata": {},
   "source": [
    "imports and notebook, plotting configuration"
   ]
  },
  {
   "cell_type": "code",
   "execution_count": null,
   "metadata": {
    "collapsed": false
   },
   "outputs": [],
   "source": [
    "%%time\n",
    "import matplotlib\n",
    "import numpy as np\n",
    "import pandas as pd\n",
    "import seaborn as sns\n",
    "\n",
    "import matplotlib.pyplot as plt\n",
    "from matplotlib.ticker import FuncFormatter\n",
    "from matplotlib import cm\n",
    "\n",
    "import config as cf\n",
    "import functions as f\n",
    "import matplotlib_charting as mp\n",
    "\n",
    "#plt.style.use('bmh')\n",
    "#plt.style.use('fivethirtyeight')\n",
    "sns.set_style(\"darkgrid\")\n",
    "\n",
    "%matplotlib inline\n",
    "pd.set_option('notebook_repr_html', False)\n",
    "pd.set_option('max_columns', 50)\n",
    "pd.set_option('expand_frame_repr', True)\n",
    "pd.set_option('max_rows', 10)\n",
    "pd.set_option('display.precision', 3)\n",
    "pd.options.display.width = 150\n",
    "pd.options.display.max_colwidth=0\n",
    "\n",
    "pd.set_option('display.float_format', lambda x: '%.4f' % x)\n",
    "\n",
    "plt.rcParams['figure.figsize']=(12.0, 9.0)   \n",
    "plt.rcParams['font.size']=14              \n",
    "\n",
    "plt.rcParams['axes.labelsize']=16\n",
    "plt.rcParams['xtick.labelsize']=14\n",
    "plt.rcParams['ytick.labelsize']=14\n",
    "plt.rcParams['axes.titlesize']=20\n",
    "plt.rcParams['lines.linewidth']=3\n",
    "plt.rcParams['legend.fontsize']=16\n",
    "plt.rcParams['legend.fancybox']=True"
   ]
  },
  {
   "cell_type": "markdown",
   "metadata": {},
   "source": [
    "read and assign variables for computed datasets\n",
    "\n",
    "ds4 is standalone, others are sample proposals"
   ]
  },
  {
   "cell_type": "code",
   "execution_count": null,
   "metadata": {
    "collapsed": false
   },
   "outputs": [],
   "source": [
    "%%time\n",
    "ds1 = pd.read_pickle('dill/ds1.pkl')\n",
    "ds2 = pd.read_pickle('dill/ds2.pkl')\n",
    "ds3 = pd.read_pickle('dill/ds3.pkl')\n",
    "ds4 = pd.read_pickle('dill/stand.pkl')"
   ]
  },
  {
   "cell_type": "markdown",
   "metadata": {},
   "source": [
    "view of first 5 rows of ds1"
   ]
  },
  {
   "cell_type": "code",
   "execution_count": null,
   "metadata": {
    "collapsed": false
   },
   "outputs": [],
   "source": [
    "ds1.head()"
   ]
  },
  {
   "cell_type": "markdown",
   "metadata": {},
   "source": [
    "assign reusable variables for functions below"
   ]
  },
  {
   "cell_type": "code",
   "execution_count": null,
   "metadata": {
    "collapsed": false
   },
   "outputs": [],
   "source": [
    "%%time\n",
    "job_levels = cf.num_of_job_levels"
   ]
  },
  {
   "cell_type": "code",
   "execution_count": null,
   "metadata": {
    "collapsed": false
   },
   "outputs": [],
   "source": [
    "%%time\n",
    "eg_colors = cf.eg_colors"
   ]
  },
  {
   "cell_type": "code",
   "execution_count": null,
   "metadata": {
    "collapsed": false
   },
   "outputs": [],
   "source": [
    "%%time\n",
    "job_colors = cf.job_colors"
   ]
  },
  {
   "cell_type": "markdown",
   "metadata": {},
   "source": [
    "assign formatter variable"
   ]
  },
  {
   "cell_type": "code",
   "execution_count": null,
   "metadata": {
    "collapsed": false
   },
   "outputs": [],
   "source": [
    "%%time\n",
    "formatter = FuncFormatter(mp.to_percent)"
   ]
  },
  {
   "cell_type": "markdown",
   "metadata": {},
   "source": [
    "assign proposal variable (string)"
   ]
  },
  {
   "cell_type": "code",
   "execution_count": null,
   "metadata": {
    "collapsed": false
   },
   "outputs": [],
   "source": [
    "%%time\n",
    "proposal = 'ds1'"
   ]
  },
  {
   "cell_type": "markdown",
   "metadata": {},
   "source": [
    "assign p variable (eval proposal variable)"
   ]
  },
  {
   "cell_type": "code",
   "execution_count": null,
   "metadata": {
    "collapsed": false
   },
   "outputs": [],
   "source": [
    "%%time\n",
    "p = eval(proposal)"
   ]
  },
  {
   "cell_type": "markdown",
   "metadata": {},
   "source": [
    "view of columns in p dataset"
   ]
  },
  {
   "cell_type": "code",
   "execution_count": null,
   "metadata": {
    "collapsed": false
   },
   "outputs": [],
   "source": [
    "p.columns"
   ]
  },
  {
   "cell_type": "markdown",
   "metadata": {},
   "source": [
    "view of colors represented by config file job_colors list variable"
   ]
  },
  {
   "cell_type": "code",
   "execution_count": null,
   "metadata": {
    "collapsed": false
   },
   "outputs": [],
   "source": [
    "sns.palplot(job_colors)"
   ]
  },
  {
   "cell_type": "markdown",
   "metadata": {},
   "source": [
    "assign employee list variable for some functions\n",
    "\n",
    "these are random samples..."
   ]
  },
  {
   "cell_type": "code",
   "execution_count": null,
   "metadata": {
    "collapsed": true
   },
   "outputs": [],
   "source": [
    "emp_list = [10011538, 10013767, 20011485, 30010789]"
   ]
  },
  {
   "cell_type": "code",
   "execution_count": null,
   "metadata": {
    "collapsed": false
   },
   "outputs": [],
   "source": [
    "mp.rows_of_color(proposal, ds1, 0, ['eg'], cf.row_colors,\n",
    "                 job_colors, cols=160, job_only=False, jnum=1,\n",
    "                 cell_border=True, eg_border_color='.2',\n",
    "                 job_border_color='.85', xsize=18, ysize=12, chart_example=True)"
   ]
  },
  {
   "cell_type": "code",
   "execution_count": null,
   "metadata": {
    "collapsed": false
   },
   "outputs": [],
   "source": [
    "%%time\n",
    "mp.quartile_years_in_position(p, ds4, job_levels, 40, cf.job_strs, proposal,\n",
    "                              cf.proposal_dict, cf.eg_dict,\n",
    "                              job_colors, flip_x=True, flip_y=False,\n",
    "                              ysize=16, xsize=12, plot_differential=True,\n",
    "                              rotate=True, custom_color=False, cm_name='Set1',\n",
    "                              normalize_yr_scale=True, gain_loss_bg=True)"
   ]
  },
  {
   "cell_type": "markdown",
   "metadata": {},
   "source": [
    "age vs. list percentage for a specific month"
   ]
  },
  {
   "cell_type": "code",
   "execution_count": null,
   "metadata": {
    "collapsed": false
   },
   "outputs": [],
   "source": [
    "mnum = 80\n",
    "mp.age_vs_spcnt(p, [1,2,3], mnum, eg_colors, cf.eg_dict, proposal,\n",
    "                cf.proposal_dict, formatter, chart_example=False)"
   ]
  },
  {
   "cell_type": "markdown",
   "metadata": {},
   "source": [
    "employees from each group holding a specific job level"
   ]
  },
  {
   "cell_type": "code",
   "execution_count": null,
   "metadata": {
    "collapsed": false
   },
   "outputs": [],
   "source": [
    "%%time\n",
    "jnum = 4\n",
    "job_p = p[p.jnum==jnum]\n",
    "mp.age_vs_spcnt(job_p, [1,2,3], 42, eg_colors, cf.eg_dict, proposal,\n",
    "                cf.proposal_dict, formatter, chart_example=False)"
   ]
  },
  {
   "cell_type": "code",
   "execution_count": null,
   "metadata": {
    "collapsed": false
   },
   "outputs": [],
   "source": [
    "%%time\n",
    "emps = [10011538, 10013767, 20011485, 30010789]\n",
    "mp.multiline_plot_by_emp(p, 'mpay', 'spcnt', emps, job_levels,\n",
    "                         eg_colors, cf.job_strs, proposal,\n",
    "                         cf.proposal_dict, formatter, chart_example=False)"
   ]
  },
  {
   "cell_type": "code",
   "execution_count": null,
   "metadata": {
    "collapsed": false
   },
   "outputs": [],
   "source": [
    "prop = 'ds1'\n",
    "mp.multiline_plot_by_emp(eval(prop), 'jobp', 'date', emp_list,\n",
    "                         job_levels, eg_colors, cf.job_strs, prop,\n",
    "                         cf.proposal_dict, formatter, chart_example=False)"
   ]
  },
  {
   "cell_type": "code",
   "execution_count": null,
   "metadata": {
    "collapsed": false
   },
   "outputs": [],
   "source": [
    "mp.multiline_plot_by_emp(ds1, 'cat_order', 'date', [20011327], job_levels,\n",
    "                         job_colors, cf.jobs_dict, 'ds1', cf.proposal_dict, formatter)"
   ]
  },
  {
   "cell_type": "code",
   "execution_count": null,
   "metadata": {
    "collapsed": false
   },
   "outputs": [],
   "source": [
    "%%time\n",
    "mp.multiline_plot_by_eg(ds3, 'jobp', 'lspcnt', [1,2,3], cf.job_strs,\n",
    "                        proposal, cf.proposal_dict, job_levels,\n",
    "                        eg_colors, formatter, mnum=0, scatter=True,\n",
    "                        exclude_fur=False, full_pcnt_xscale=True, chart_example=False)"
   ]
  },
  {
   "cell_type": "code",
   "execution_count": null,
   "metadata": {
    "collapsed": false
   },
   "outputs": [],
   "source": [
    "%%time\n",
    "mp.multiline_plot_by_eg(p, 'cat_order', 'lspcnt', [1,2,3], cf.job_strs,\n",
    "                        proposal, cf.proposal_dict, job_levels,\n",
    "                        eg_colors, formatter, mnum=20, scatter=False,\n",
    "                        exclude_fur=False, full_pcnt_xscale=True)"
   ]
  },
  {
   "cell_type": "code",
   "execution_count": null,
   "metadata": {
    "collapsed": false
   },
   "outputs": [],
   "source": [
    "%%time\n",
    "mp.violinplot_by_eg(p, 'age', proposal, cf.proposal_dict, formatter,\n",
    "                    mnum=0, scale='count', chart_example=False)"
   ]
  },
  {
   "cell_type": "code",
   "execution_count": null,
   "metadata": {
    "collapsed": false
   },
   "outputs": [],
   "source": [
    "%%time\n",
    "mp.age_kde_dist(p, eg_colors, cf.eg_dict, mnum=0, chart_example=False)"
   ]
  },
  {
   "cell_type": "code",
   "execution_count": null,
   "metadata": {
    "collapsed": false
   },
   "outputs": [],
   "source": [
    "%%time\n",
    "mp.eg_diff_boxplot([ds1, ds2, ds3], ds4, [1, 2, 3], formatter,\n",
    "                   measure='spcnt', comparison='standalone',\n",
    "                   xsize=16, year_clip=2035, chart_example=False)"
   ]
  },
  {
   "cell_type": "code",
   "execution_count": null,
   "metadata": {
    "collapsed": false
   },
   "outputs": [],
   "source": [
    "%%time\n",
    "mp.stripplot_distribution_in_category(ds2, job_levels, 36,\n",
    "                                      cf.full_time_pcnt1, eg_colors,\n",
    "                                      job_colors, cf.jobs_dict,\n",
    "                                      cf.eg_dict_verbose, bg_alpha=.15,\n",
    "                                      chart_example=True)"
   ]
  },
  {
   "cell_type": "code",
   "execution_count": null,
   "metadata": {
    "collapsed": false
   },
   "outputs": [],
   "source": [
    "%%time\n",
    "mp.job_level_progression(p, emp_list, '2030-12-31', job_levels,\n",
    "                          eg_colors, job_colors,\n",
    "                          cf.eg_counts, cf.j_changes, alpha=.1,\n",
    "                         chart_example=False)"
   ]
  },
  {
   "cell_type": "code",
   "execution_count": null,
   "metadata": {
    "collapsed": false
   },
   "outputs": [],
   "source": [
    "mp.differential_scatter(ds4, [ds1, ds2, ds3], 'spcnt', 'age',\n",
    "                        65, [1, 2, 3], formatter, prop_order=True,\n",
    "                        show_scatter=True, show_lin_reg=False,\n",
    "                        show_mean=False, mean_len=80,\n",
    "                        dot_size=20, lin_reg_order=12,\n",
    "                        ylimit=False, ylim=5,\n",
    "                        width=15, height=10, bright_bg=False,\n",
    "                        chart_style='darkgrid', chart_example=True)"
   ]
  },
  {
   "cell_type": "code",
   "execution_count": null,
   "metadata": {
    "collapsed": false
   },
   "outputs": [],
   "source": [
    "prop = 'ds1'\n",
    "mp.job_grouping_over_time(eval(prop), prop, [1,2,3], cf.job_strs,\n",
    "                          job_colors, formatter, rets_only=True,\n",
    "                          time_group='A', plt_kind='bar',\n",
    "                          measure_subset='jobp', measure_val=3,\n",
    "                          measure_val2=200, operator='greater_than',\n",
    "                          display_yrs=40, legend_loc=4, xsize=11,\n",
    "                          ysize=6, chart_example=False)"
   ]
  },
  {
   "cell_type": "code",
   "execution_count": null,
   "metadata": {
    "collapsed": false
   },
   "outputs": [],
   "source": [
    "%%time\n",
    "mp.parallel(ds4, [ds1, ds2, ds3], [1, 2, 3],\n",
    "            'lspcnt', [0, 40, 80, 120],\n",
    "            job_levels, formatter,\n",
    "            left=0, xsize=5, ysize=5)"
   ]
  },
  {
   "cell_type": "markdown",
   "metadata": {},
   "source": [
    "integrated distribution of all jobs, all employee groups"
   ]
  },
  {
   "cell_type": "code",
   "execution_count": null,
   "metadata": {
    "collapsed": false
   },
   "outputs": [],
   "source": [
    "mp.rows_of_color(proposal, p, 0, ['jnum'], cf.row_colors,\n",
    "                 job_colors, cols=150, job_only=False, jnum=6,\n",
    "                 cell_border=True, eg_border_color='.3',\n",
    "                 job_border_color='.55', xsize=12, ysize=9,\n",
    "                 chart_example=True)"
   ]
  },
  {
   "cell_type": "code",
   "execution_count": null,
   "metadata": {
    "collapsed": false
   },
   "outputs": [],
   "source": [
    "mp.rows_of_color(proposal, p, 60, ['eg', 'fur'], cf.row_colors,\n",
    "                 job_colors, cols=150, job_only=False, jnum=6,\n",
    "                 cell_border=True, eg_border_color='.3',\n",
    "                 job_border_color='.55', xsize=12, ysize=9,\n",
    "                 chart_example=True)"
   ]
  },
  {
   "cell_type": "code",
   "execution_count": null,
   "metadata": {
    "collapsed": false
   },
   "outputs": [],
   "source": [
    "mp.rows_of_color(proposal, p, 60, ['eg', 'fur'], cf.row_colors,\n",
    "                 job_colors, cols=150, job_only=True, jnum=6,\n",
    "                 cell_border=True, eg_border_color='.3',\n",
    "                 job_border_color='.55', xsize=12, ysize=9,\n",
    "                 chart_example=True)"
   ]
  },
  {
   "cell_type": "code",
   "execution_count": null,
   "metadata": {
    "collapsed": false
   },
   "outputs": [],
   "source": [
    "mp.quartile_bands_over_time(p, 3, 'spcnt', formatter, bins=20,\n",
    "                            clip=True, year_clip=2035, kind='area',\n",
    "                            quartile_ticks=False, custom_color=True,\n",
    "                            cm_name='Set1', quartile_alpha=.6,\n",
    "                            grid_alpha=.5, custom_start=0,\n",
    "                            custom_finish=.75, xsize=10, ysize=8,\n",
    "                            alt_bg_color=False, bg_color='#faf6eb')"
   ]
  },
  {
   "cell_type": "code",
   "execution_count": null,
   "metadata": {
    "collapsed": false
   },
   "outputs": [],
   "source": [
    "prop = 'ds1'\n",
    "base = 'ds4'\n",
    "mp.job_transfer(eval(prop), prop, eval(base), base,\n",
    "                3, job_colors, job_levels,\n",
    "                custom_color=False, gb_period='M')"
   ]
  },
  {
   "cell_type": "code",
   "execution_count": null,
   "metadata": {
    "collapsed": false
   },
   "outputs": [],
   "source": [
    "%%time\n",
    "proposal = 'ds1'\n",
    "mp.eg_multiplot_with_cat_order(eval(proposal), proposal, 40,\n",
    "                               'cat_order', 'lspcnt', formatter,\n",
    "                               cf.proposal_dict, cf.job_strs,\n",
    "                               job_colors, job_levels)"
   ]
  },
  {
   "cell_type": "code",
   "execution_count": null,
   "metadata": {
    "collapsed": false
   },
   "outputs": [],
   "source": [
    "mp.diff_range([ds1, ds2, ds3], ds4, 'cpay', [1,2,3], [1, 2, 3],\n",
    "              formatter, 'Q', show_range=False, show_mean=True,\n",
    "              year_clip=2030, xsize=7, ysize=5)"
   ]
  },
  {
   "cell_type": "code",
   "execution_count": null,
   "metadata": {
    "collapsed": false
   },
   "outputs": [],
   "source": [
    "%%time\n",
    "mp.job_count_charts(p, ds4, plot_egs_sep=False)"
   ]
  },
  {
   "cell_type": "code",
   "execution_count": null,
   "metadata": {
    "collapsed": false
   },
   "outputs": [],
   "source": [
    "%%time\n",
    "empnum = 20011327\n",
    "mp.emp_quick_glance(empnum, ds3)"
   ]
  },
  {
   "cell_type": "code",
   "execution_count": null,
   "metadata": {
    "collapsed": false
   },
   "outputs": [],
   "source": [
    "%%time\n",
    "mp.single_emp_compare(20010360, 'jobp', [ds1, ds2, ds3, ds4],\n",
    "                      'date', formatter, cf.job_strs, eg_colors,\n",
    "                      cf.eg_dict, job_levels, chart_example=True)"
   ]
  },
  {
   "cell_type": "code",
   "execution_count": null,
   "metadata": {
    "collapsed": false
   },
   "outputs": [],
   "source": [
    "mp.job_time_change(ds4, [ds1], [1, 2, 3],\n",
    "                    'spcnt', colors=cf.job_colors,\n",
    "                    job_list=np.arange(cf.num_of_job_levels, 0, -1),\n",
    "                    jobs_dict=cf.jobs_dict)"
   ]
  },
  {
   "cell_type": "markdown",
   "metadata": {},
   "source": [
    "### slicing and groupby month"
   ]
  },
  {
   "cell_type": "code",
   "execution_count": null,
   "metadata": {
    "collapsed": false
   },
   "outputs": [],
   "source": [
    "mp.group_average_and_median(ds1, 'ds1', ds4, 'ds4', [1, 2, 3],\n",
    "                            eg_colors, 'cat_order', job_levels,\n",
    "                            cf.jobs_dict, cf.proposal_dict,\n",
    "                             attr1='ldate',\n",
    "                             oper1='<=', val1='1990-12-31')"
   ]
  },
  {
   "cell_type": "code",
   "execution_count": null,
   "metadata": {
    "collapsed": false
   },
   "outputs": [],
   "source": [
    "mp.group_average_and_median(ds1, 'ds1', ds4, 'ds4', [1, 2, 3],\n",
    "                            eg_colors, 'jnum', job_levels,\n",
    "                            cf.jobs_dict, cf.proposal_dict,\n",
    "                            job_labels=False, attr1='age',\n",
    "                            oper1='>', val1='50')"
   ]
  },
  {
   "cell_type": "code",
   "execution_count": null,
   "metadata": {
    "collapsed": false
   },
   "outputs": [],
   "source": [
    "%%time\n",
    "mp.stripplot_eg_density(p, 40, eg_colors, xsize=4)"
   ]
  },
  {
   "cell_type": "markdown",
   "metadata": {},
   "source": [
    "# Make colormap"
   ]
  },
  {
   "cell_type": "markdown",
   "metadata": {},
   "source": [
    "Note:  the following 3 cells are included only as an example of creating a custom colormap for charts...\n",
    "\n",
    "The cm_name variable must be a valid matplotlib colormap name"
   ]
  },
  {
   "cell_type": "code",
   "execution_count": null,
   "metadata": {
    "collapsed": false
   },
   "outputs": [],
   "source": [
    "cm_name='Paired'\n",
    "num_of_colors = 8 + 1\n",
    "cm_subsection = np.linspace(0, .75, num_of_colors)\n",
    "colormap = eval('cm.' + cm_name)\n",
    "colors = [colormap(x) for x in cm_subsection]"
   ]
  },
  {
   "cell_type": "code",
   "execution_count": null,
   "metadata": {
    "collapsed": false
   },
   "outputs": [],
   "source": [
    "colors"
   ]
  },
  {
   "cell_type": "markdown",
   "metadata": {},
   "source": [
    "seaborn method of viewing colors from list"
   ]
  },
  {
   "cell_type": "code",
   "execution_count": null,
   "metadata": {
    "collapsed": false
   },
   "outputs": [],
   "source": [
    "sns.palplot(colors)"
   ]
  },
  {
   "cell_type": "markdown",
   "metadata": {},
   "source": [
    "### custom plot example, eg job count over time, standalone vs. proposal"
   ]
  },
  {
   "cell_type": "code",
   "execution_count": null,
   "metadata": {
    "collapsed": false
   },
   "outputs": [],
   "source": [
    "%%time\n",
    "eg_num = 1\n",
    "base_jobs = ds4[ds4.eg==eg_num].groupby(['date', 'jnum']).size().astype(int).unstack()\n",
    "p_jobs = p[p.eg==eg_num].groupby(['date', 'jnum']).size().astype(int).unstack()\n",
    "\n",
    "base_jobs_cols = list(base_jobs.columns)\n",
    "p_jobs_cols = list(p_jobs.columns)\n",
    "\n",
    "base_jobs.plot(color=list(job_colors[i - 1] for i in base_jobs_cols))\n",
    "p_jobs.plot(color=list(job_colors[i - 1] for i in p_jobs_cols))\n",
    "\n",
    "plt.show()"
   ]
  },
  {
   "cell_type": "code",
   "execution_count": null,
   "metadata": {
    "collapsed": false
   },
   "outputs": [],
   "source": []
  },
  {
   "cell_type": "code",
   "execution_count": null,
   "metadata": {
    "collapsed": true
   },
   "outputs": [],
   "source": []
  },
  {
   "cell_type": "code",
   "execution_count": null,
   "metadata": {
    "collapsed": true
   },
   "outputs": [],
   "source": []
  },
  {
   "cell_type": "code",
   "execution_count": null,
   "metadata": {
    "collapsed": true
   },
   "outputs": [],
   "source": []
  },
  {
   "cell_type": "code",
   "execution_count": null,
   "metadata": {
    "collapsed": true
   },
   "outputs": [],
   "source": []
  },
  {
   "cell_type": "code",
   "execution_count": null,
   "metadata": {
    "collapsed": true
   },
   "outputs": [],
   "source": []
  },
  {
   "cell_type": "code",
   "execution_count": null,
   "metadata": {
    "collapsed": true
   },
   "outputs": [],
   "source": []
  },
  {
   "cell_type": "code",
   "execution_count": null,
   "metadata": {
    "collapsed": true
   },
   "outputs": [],
   "source": []
  },
  {
   "cell_type": "code",
   "execution_count": null,
   "metadata": {
    "collapsed": true
   },
   "outputs": [],
   "source": []
  },
  {
   "cell_type": "code",
   "execution_count": null,
   "metadata": {
    "collapsed": true
   },
   "outputs": [],
   "source": []
  },
  {
   "cell_type": "code",
   "execution_count": null,
   "metadata": {
    "collapsed": true
   },
   "outputs": [],
   "source": []
  },
  {
   "cell_type": "code",
   "execution_count": null,
   "metadata": {
    "collapsed": true
   },
   "outputs": [],
   "source": []
  },
  {
   "cell_type": "code",
   "execution_count": null,
   "metadata": {
    "collapsed": true
   },
   "outputs": [],
   "source": []
  },
  {
   "cell_type": "code",
   "execution_count": null,
   "metadata": {
    "collapsed": true
   },
   "outputs": [],
   "source": []
  },
  {
   "cell_type": "code",
   "execution_count": null,
   "metadata": {
    "collapsed": true
   },
   "outputs": [],
   "source": []
  },
  {
   "cell_type": "code",
   "execution_count": null,
   "metadata": {
    "collapsed": true
   },
   "outputs": [],
   "source": []
  },
  {
   "cell_type": "code",
   "execution_count": null,
   "metadata": {
    "collapsed": true
   },
   "outputs": [],
   "source": []
  },
  {
   "cell_type": "code",
   "execution_count": null,
   "metadata": {
    "collapsed": true
   },
   "outputs": [],
   "source": []
  },
  {
   "cell_type": "code",
   "execution_count": null,
   "metadata": {
    "collapsed": true
   },
   "outputs": [],
   "source": []
  }
 ],
 "metadata": {
  "anaconda-cloud": {},
  "kernelspec": {
   "display_name": "Python [Root]",
   "language": "python",
   "name": "Python [Root]"
  },
  "language_info": {
   "codemirror_mode": {
    "name": "ipython",
    "version": 3
   },
   "file_extension": ".py",
   "mimetype": "text/x-python",
   "name": "python",
   "nbconvert_exporter": "python",
   "pygments_lexer": "ipython3",
   "version": "3.5.2"
  },
  "widgets": {
   "state": {},
   "version": "1.1.2"
  }
 },
 "nbformat": 4,
 "nbformat_minor": 0
}
