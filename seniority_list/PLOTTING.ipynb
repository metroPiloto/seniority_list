{
 "cells": [
  {
   "cell_type": "markdown",
   "metadata": {},
   "source": [
    "### Plotting notebook\n",
    "\n",
    "#### Most of the functions below have built-in filtering capability.  Uncomment lines which begin with 'attr1' to sample...\n",
    "\n",
    "##### To view the docstrings for all plotting functions below, click within the name of the function and then use keyboard combination Shift+TAB."
   ]
  },
  {
   "cell_type": "markdown",
   "metadata": {},
   "source": [
    "imports and notebook, plotting configuration"
   ]
  },
  {
   "cell_type": "code",
   "execution_count": null,
   "metadata": {
    "collapsed": false
   },
   "outputs": [],
   "source": [
    "%%time\n",
    "import matplotlib\n",
    "import numpy as np\n",
    "import pandas as pd\n",
    "import seaborn as sns\n",
    "\n",
    "import matplotlib.pyplot as plt\n",
    "from matplotlib import cm\n",
    "\n",
    "import config as cf\n",
    "import functions as f\n",
    "import matplotlib_charting as mp\n",
    "\n",
    "#plt.style.use('bmh')\n",
    "#plt.style.use('fivethirtyeight')\n",
    "sns.set_style(\"darkgrid\")\n",
    "\n",
    "%matplotlib inline\n",
    "pd.set_option('notebook_repr_html', False)\n",
    "pd.set_option('max_columns', 50)\n",
    "pd.set_option('expand_frame_repr', True)\n",
    "pd.set_option('max_rows', 10)\n",
    "pd.set_option('display.precision', 3)\n",
    "pd.options.display.width = 150\n",
    "pd.options.display.max_colwidth=0\n",
    "\n",
    "pd.set_option('display.float_format', lambda x: '%.4f' % x)\n",
    "\n",
    "plt.rcParams['figure.figsize']=(12.0, 9.0)   \n",
    "plt.rcParams['font.size']=14              \n",
    "\n",
    "plt.rcParams['axes.labelsize']=16\n",
    "plt.rcParams['xtick.labelsize']=14\n",
    "plt.rcParams['ytick.labelsize']=14\n",
    "plt.rcParams['axes.titlesize']=20\n",
    "plt.rcParams['lines.linewidth']=3\n",
    "plt.rcParams['legend.fontsize']=16\n",
    "plt.rcParams['legend.fancybox']=True"
   ]
  },
  {
   "cell_type": "markdown",
   "metadata": {},
   "source": [
    "read and assign variables for computed datasets\n",
    "\n",
    "ds4 is standalone, others are sample proposals"
   ]
  },
  {
   "cell_type": "code",
   "execution_count": null,
   "metadata": {
    "collapsed": false
   },
   "outputs": [],
   "source": [
    "%%time\n",
    "ds_dict = f.load_datasets()"
   ]
  },
  {
   "cell_type": "markdown",
   "metadata": {},
   "source": [
    "view of first 5 rows of proposal 1 (named 'p1' in Excel file 'proposals.xlsx'):"
   ]
  },
  {
   "cell_type": "code",
   "execution_count": null,
   "metadata": {
    "collapsed": false
   },
   "outputs": [],
   "source": [
    "ds_dict['p1'][0].head()"
   ]
  },
  {
   "cell_type": "markdown",
   "metadata": {},
   "source": [
    "assign reusable variables for functions below"
   ]
  },
  {
   "cell_type": "code",
   "execution_count": null,
   "metadata": {
    "collapsed": false
   },
   "outputs": [],
   "source": [
    "%%time\n",
    "job_levels = cf.num_of_job_levels"
   ]
  },
  {
   "cell_type": "code",
   "execution_count": null,
   "metadata": {
    "collapsed": false
   },
   "outputs": [],
   "source": [
    "%%time\n",
    "eg_colors = cf.eg_colors"
   ]
  },
  {
   "cell_type": "code",
   "execution_count": null,
   "metadata": {
    "collapsed": false
   },
   "outputs": [],
   "source": [
    "%%time\n",
    "job_colors = cf.job_colors"
   ]
  },
  {
   "cell_type": "markdown",
   "metadata": {},
   "source": [
    "assign proposal variable (string)"
   ]
  },
  {
   "cell_type": "code",
   "execution_count": null,
   "metadata": {
    "collapsed": false
   },
   "outputs": [],
   "source": [
    "%%time\n",
    "proposal = 'p1'"
   ]
  },
  {
   "cell_type": "markdown",
   "metadata": {},
   "source": [
    "assign p variable (eval proposal variable)"
   ]
  },
  {
   "cell_type": "code",
   "execution_count": null,
   "metadata": {
    "collapsed": false
   },
   "outputs": [],
   "source": [
    "%%time\n",
    "p = ds_dict[proposal][0]"
   ]
  },
  {
   "cell_type": "markdown",
   "metadata": {},
   "source": [
    "view of columns in p dataset"
   ]
  },
  {
   "cell_type": "code",
   "execution_count": null,
   "metadata": {
    "collapsed": false
   },
   "outputs": [],
   "source": [
    "p.columns"
   ]
  },
  {
   "cell_type": "markdown",
   "metadata": {},
   "source": [
    "view of colors represented by config file job_colors list variable"
   ]
  },
  {
   "cell_type": "code",
   "execution_count": null,
   "metadata": {
    "collapsed": false
   },
   "outputs": [],
   "source": [
    "sns.palplot(job_colors)"
   ]
  },
  {
   "cell_type": "markdown",
   "metadata": {},
   "source": [
    "assign sample employee and employee list variables for some functions\n",
    "\n",
    "these are median samples..."
   ]
  },
  {
   "cell_type": "code",
   "execution_count": null,
   "metadata": {
    "collapsed": true
   },
   "outputs": [],
   "source": [
    "# sample employee - halfway down the list from first month\n",
    "first_month = p[p.mnum==0]\n",
    "sample_emp = first_month.iloc[int(len(first_month) / 2)].empkey"
   ]
  },
  {
   "cell_type": "code",
   "execution_count": null,
   "metadata": {
    "collapsed": false
   },
   "outputs": [],
   "source": [
    "# sample employee list - median of each employee group\n",
    "sample_emp_list = []\n",
    "g = p[p.mnum==0][['eg', 'empkey']].groupby('eg')\n",
    "egs = pd.unique(p.eg)\n",
    "for eg in egs:\n",
    "    sample_emp_list.append(g.get_group(eg).iloc[int(len(g.get_group(eg)) * .5)].empkey)\n",
    "g =[]"
   ]
  },
  {
   "cell_type": "code",
   "execution_count": null,
   "metadata": {
    "collapsed": false
   },
   "outputs": [],
   "source": [
    "%%time\n",
    "# uncomment the two lines of arguments below for an example of attribute filtering\n",
    "mp.quartile_years_in_position('p1', 'standalone', job_levels, 40, cf.job_strs, cf.eg_dict,\n",
    "                              job_colors, ds_dict=ds_dict, flip_x=True, flip_y=False,\n",
    "                              ysize=16, xsize=12, plot_differential=True,\n",
    "                              #attr1='ldate', oper1='<=', val1='1997-12-31',\n",
    "                              #attr2='ldate', oper2='>=', val2='1986-12-31',\n",
    "                              rotate=True, custom_color=False, cm_name='Set1',\n",
    "                              normalize_yr_scale=True, gain_loss_bg=True)"
   ]
  },
  {
   "cell_type": "markdown",
   "metadata": {},
   "source": [
    "age vs. list percentage for a specific month"
   ]
  },
  {
   "cell_type": "code",
   "execution_count": null,
   "metadata": {
    "collapsed": false
   },
   "outputs": [],
   "source": [
    "%%time\n",
    "mnum = 24  # month number\n",
    "mp.age_vs_spcnt('p1', [1,2,3], mnum, eg_colors, cf.eg_dict, ds_dict=ds_dict,\n",
    "                # attr1='ldate', oper1='<=', val1='1999-12-31',\n",
    "                chart_example=False)"
   ]
  },
  {
   "cell_type": "markdown",
   "metadata": {},
   "source": [
    "employees from each group holding a specific job level"
   ]
  },
  {
   "cell_type": "code",
   "execution_count": null,
   "metadata": {
    "collapsed": false
   },
   "outputs": [],
   "source": [
    "%%time\n",
    "jnum = 4  # job number\n",
    "job_p = p[p.jnum==jnum]\n",
    "mp.age_vs_spcnt(job_p, [1,2,3], 42, eg_colors, cf.eg_dict, ds_dict=ds_dict, chart_example=False)"
   ]
  },
  {
   "cell_type": "code",
   "execution_count": null,
   "metadata": {
    "collapsed": false
   },
   "outputs": [],
   "source": [
    "%%time\n",
    "mp.multiline_plot_by_emp('p1', 'mpay', 'spcnt', sample_emp_list, job_levels,\n",
    "                         eg_colors, cf.job_strs, ds_dict=ds_dict, chart_example=False)"
   ]
  },
  {
   "cell_type": "code",
   "execution_count": null,
   "metadata": {
    "collapsed": false
   },
   "outputs": [],
   "source": [
    "%%time\n",
    "mp.multiline_plot_by_emp('p1', 'jobp', 'date', sample_emp_list,\n",
    "                         job_levels, eg_colors, cf.job_strs, ds_dict=ds_dict, chart_example=False)"
   ]
  },
  {
   "cell_type": "code",
   "execution_count": null,
   "metadata": {
    "collapsed": false
   },
   "outputs": [],
   "source": [
    "%%time\n",
    "mp.multiline_plot_by_emp('p1', 'cat_order', 'date', sample_emp_list, job_levels,\n",
    "                         cf.eg_colors, cf.proposal_dict, ds_dict=ds_dict)"
   ]
  },
  {
   "cell_type": "code",
   "execution_count": null,
   "metadata": {
    "collapsed": false
   },
   "outputs": [],
   "source": [
    "%%time\n",
    "mp.multiline_plot_by_eg('p1', 'jobp', 'lspcnt', [1,2,3], cf.job_strs,\n",
    "                        job_levels, eg_colors, ds_dict=ds_dict,\n",
    "                        #attr1='ldate', oper1='>=', val1='1999-12-31',\n",
    "                        mnum=0, scatter=True,\n",
    "                        exclude_fur=False, full_pcnt_xscale=True, chart_example=False)"
   ]
  },
  {
   "cell_type": "code",
   "execution_count": null,
   "metadata": {
    "collapsed": false
   },
   "outputs": [],
   "source": [
    "%%time\n",
    "mp.multiline_plot_by_eg('p1', 'cat_order', 'lspcnt', [1,2,3], cf.job_strs,\n",
    "                        job_levels, eg_colors, ds_dict=ds_dict, mnum=20, scatter=False,\n",
    "                        exclude_fur=False, full_pcnt_xscale=True)"
   ]
  },
  {
   "cell_type": "code",
   "execution_count": null,
   "metadata": {
    "collapsed": false
   },
   "outputs": [],
   "source": [
    "%%time\n",
    "mp.violinplot_by_eg(p, 'age', ds_dict=ds_dict,\n",
    "                    mnum=0, scale='count', chart_example=False)"
   ]
  },
  {
   "cell_type": "code",
   "execution_count": null,
   "metadata": {
    "collapsed": false
   },
   "outputs": [],
   "source": [
    "%%time\n",
    "mp.age_kde_dist('p1', eg_colors, cf.eg_dict,\n",
    "                ds_dict=ds_dict, mnum=0, chart_example=False)"
   ]
  },
  {
   "cell_type": "code",
   "execution_count": null,
   "metadata": {
    "collapsed": false
   },
   "outputs": [],
   "source": [
    "%%time\n",
    "mp.eg_diff_boxplot(['p1', 'p2', 'p3'], 'standalone', [1, 2, 3],\n",
    "                   ds_dict=ds_dict,\n",
    "                   #attr1='ldate', oper1='<=', val1='1986-12-31',\n",
    "                   measure='spcnt', comparison='',\n",
    "                   year_clip=2035, chart_example=False)"
   ]
  },
  {
   "cell_type": "code",
   "execution_count": null,
   "metadata": {
    "collapsed": false
   },
   "outputs": [],
   "source": [
    "%%time\n",
    "mp.eg_boxplot(['p1', 'p2', 'p3'], [1, 2, 3],\n",
    "              #attr1='doh', oper1='<=', val1='2000-12-31',\n",
    "              measure='jobp', ds_dict=ds_dict)"
   ]
  },
  {
   "cell_type": "code",
   "execution_count": null,
   "metadata": {
    "collapsed": false
   },
   "outputs": [],
   "source": [
    "%%time\n",
    "mp.stripplot_distribution_in_category('p1', job_levels, 40,\n",
    "                                      cf.full_time_pcnt1, eg_colors,\n",
    "                                      job_colors, cf.jobs_dict,\n",
    "                                      cf.eg_dict_verbose, ds_dict=ds_dict, bg_alpha=.15,\n",
    "                                      #attr1='ldate', oper1='<=', val1='1998-12-31',\n",
    "                                      chart_example=False)"
   ]
  },
  {
   "cell_type": "code",
   "execution_count": null,
   "metadata": {
    "collapsed": false
   },
   "outputs": [],
   "source": [
    "%%time\n",
    "mp.job_level_progression('p1', sample_emp_list, '2030-12-31', \n",
    "                         ds_dict=ds_dict, alpha=.1,\n",
    "                         chart_example=False)"
   ]
  },
  {
   "cell_type": "code",
   "execution_count": null,
   "metadata": {
    "collapsed": false
   },
   "outputs": [],
   "source": [
    "%%time\n",
    "mp.differential_scatter(['p1', 'p2', 'p3'], 'standalone', 'spcnt', 'age',\n",
    "                        65, [1, 2, 3], ds_dict=ds_dict, prop_order=True,\n",
    "                        #attr1='ldate', oper1='<=', val1='1997-12-31',\n",
    "                        show_scatter=True, show_lin_reg=False,\n",
    "                        show_mean=False, mean_len=80,\n",
    "                        dot_size=20, lin_reg_order=12,\n",
    "                        ylimit=False, ylim=5,\n",
    "                        bright_bg=False,\n",
    "                        chart_style='darkgrid', chart_example=False)"
   ]
  },
  {
   "cell_type": "code",
   "execution_count": null,
   "metadata": {
    "collapsed": false
   },
   "outputs": [],
   "source": [
    "%%time\n",
    "mp.parallel([p, 'p2', 'p3'], 'standalone', [1, 2, 3],\n",
    "            'lspcnt', [0, 40, 80, 120],\n",
    "            job_levels,\n",
    "            ds_dict=ds_dict,\n",
    "            #attr1='ldate', oper1='<=', val1='1997-12-31',\n",
    "            left=0, xsize=5, ysize=5)"
   ]
  },
  {
   "cell_type": "code",
   "execution_count": null,
   "metadata": {
    "collapsed": false
   },
   "outputs": [],
   "source": [
    "%%time\n",
    "mp.job_grouping_over_time('p1', [1,2,3], cf.job_strs,\n",
    "                          job_colors, rets_only=True, ds_dict=ds_dict,\n",
    "                          #attr1='ldate', oper1='<=', val1='1997-12-31',\n",
    "                          time_group='A', plt_kind='bar',\n",
    "                          display_yrs=40, legend_loc=4, xsize=11,\n",
    "                          ysize=6, chart_example=False)"
   ]
  },
  {
   "cell_type": "markdown",
   "metadata": {},
   "source": [
    "integrated distribution of all jobs, all employee groups"
   ]
  },
  {
   "cell_type": "code",
   "execution_count": null,
   "metadata": {
    "collapsed": false
   },
   "outputs": [],
   "source": [
    "%%time\n",
    "mp.rows_of_color('p1', 22, ['jnum'], cf.eg_colors,\n",
    "                 job_colors, ds_dict=ds_dict, cols=120, job_only=False, jnum=4,\n",
    "                 cell_border=True, eg_border_color='.9', eg_list=[1,2,3],\n",
    "                 job_border_color='.75', xsize=12, ysize=9,\n",
    "                 chart_example=False)"
   ]
  },
  {
   "cell_type": "code",
   "execution_count": null,
   "metadata": {
    "collapsed": false
   },
   "outputs": [],
   "source": [
    "%%time\n",
    "mp.rows_of_color('p1', 60, ['eg', 'fur'], cf.eg_colors,\n",
    "                 job_colors, ds_dict=ds_dict, cols=150, job_only=False, jnum=6,\n",
    "                 cell_border=True, eg_border_color='.3',\n",
    "                 job_border_color='.55', xsize=12, ysize=9,\n",
    "                 chart_example=True)"
   ]
  },
  {
   "cell_type": "code",
   "execution_count": null,
   "metadata": {
    "collapsed": false
   },
   "outputs": [],
   "source": [
    "%%time\n",
    "mp.rows_of_color('p1', 60, ['eg'], cf.eg_colors,\n",
    "                 job_colors, ds_dict=ds_dict, cols=100, job_only=True, jnum=4,\n",
    "                 #attr1='age', oper1='>=', val1='60',\n",
    "                 cell_border=True, eg_border_color='.6',\n",
    "                 job_border_color='.85', xsize=12, ysize=9, chart_example=False)"
   ]
  },
  {
   "cell_type": "code",
   "execution_count": null,
   "metadata": {
    "collapsed": false
   },
   "outputs": [],
   "source": [
    "%%time\n",
    "mp.rows_of_color('p1', 40, ['eg', 'fur'], cf.eg_colors,\n",
    "                 job_colors, ds_dict=ds_dict, cols=150, job_only=True, jnum=4,\n",
    "                 #attr1='ldate', oper1='<=', val1='1987-12-31',\n",
    "                 cell_border=True, eg_border_color='.3',\n",
    "                 job_border_color='.55', xsize=12, ysize=9,\n",
    "                 chart_example=True)"
   ]
  },
  {
   "cell_type": "code",
   "execution_count": null,
   "metadata": {
    "collapsed": false
   },
   "outputs": [],
   "source": [
    "%%time\n",
    "mp.quartile_bands_over_time('p2', 2, 'spcnt', bins=20, ds_dict=ds_dict,\n",
    "                            clip=True, year_clip=2035, kind='area',\n",
    "                            quartile_ticks=False, custom_color=True,\n",
    "                            cm_name='Set1', quartile_alpha=.6,\n",
    "                            grid_alpha=.5, custom_start=0,\n",
    "                            custom_finish=.75, xsize=10, ysize=8,\n",
    "                            alt_bg_color=False, bg_color='#faf6eb')"
   ]
  },
  {
   "cell_type": "code",
   "execution_count": null,
   "metadata": {
    "collapsed": false
   },
   "outputs": [],
   "source": [
    "%%time\n",
    "mp.job_transfer('p1', 'standalone',\n",
    "                1, job_colors, job_levels, ds_dict=ds_dict,\n",
    "                custom_color=False, gb_period='M')"
   ]
  },
  {
   "cell_type": "code",
   "execution_count": null,
   "metadata": {
    "collapsed": false
   },
   "outputs": [],
   "source": [
    "%%time\n",
    "mp.eg_multiplot_with_cat_order('p2', 40,\n",
    "                               'cat_order', 'lspcnt',\n",
    "                               cf.job_strs, job_colors,\n",
    "                               job_levels, ds_dict=ds_dict,\n",
    "                               num=1,\n",
    "                               single_eg=False, tick_fontsize=11)"
   ]
  },
  {
   "cell_type": "code",
   "execution_count": null,
   "metadata": {
    "collapsed": false
   },
   "outputs": [],
   "source": [
    "%%time\n",
    "mp.diff_range(['p1', 'p2', 'p3'], 'standalone', 'jobp', [1, 2, 3],\n",
    "              ds_dict=ds_dict,\n",
    "              #attr1='ldate', oper1='<=', val1='1991-12-31',\n",
    "              #attr2='ldate', oper2='>=', val2='1985-12-31',\n",
    "              show_range=False, show_mean=True,\n",
    "              year_clip=2030)"
   ]
  },
  {
   "cell_type": "code",
   "execution_count": null,
   "metadata": {
    "collapsed": false
   },
   "outputs": [],
   "source": [
    "%%time\n",
    "mp.job_count_charts('p1', 'standalone', eg_list=[1, 2, 3], ds_dict=ds_dict,\n",
    "                    #attr1='lname', oper1='<=', val1='jones',\n",
    "                    plot_egs_sep=True, plot_total=True)"
   ]
  },
  {
   "cell_type": "code",
   "execution_count": null,
   "metadata": {
    "collapsed": false
   },
   "outputs": [],
   "source": [
    "%%time\n",
    "mp.emp_quick_glance(sample_emp, 'p1', ds_dict=ds_dict)"
   ]
  },
  {
   "cell_type": "code",
   "execution_count": null,
   "metadata": {
    "collapsed": false
   },
   "outputs": [],
   "source": [
    "%%time\n",
    "mp.single_emp_compare(sample_emp, 'cat_order', ['p1', 'p2', 'p3', 'standalone'],\n",
    "                      'date', cf.job_strs, eg_colors,\n",
    "                      cf.eg_dict, job_levels, ds_dict=ds_dict, chart_example=False)"
   ]
  },
  {
   "cell_type": "code",
   "execution_count": null,
   "metadata": {
    "collapsed": false
   },
   "outputs": [],
   "source": [
    "%%time\n",
    "mp.job_time_change(['p1'], 'standalone', [1, 2, 3],\n",
    "                   'spcnt', ds_dict=ds_dict,\n",
    "                   #attr1='ldate', oper1='<=', val1='1987-12-31',\n",
    "                   colors=cf.job_colors,\n",
    "                   job_list=np.arange(cf.num_of_job_levels, 0, -1),\n",
    "                   jobs_dict=cf.jobs_dict)"
   ]
  },
  {
   "cell_type": "markdown",
   "metadata": {},
   "source": [
    "### slicing and groupby month"
   ]
  },
  {
   "cell_type": "code",
   "execution_count": null,
   "metadata": {
    "collapsed": false
   },
   "outputs": [],
   "source": [
    "%%time\n",
    "mp.group_average_and_median('p1', 'standalone', [1, 2, 3],\n",
    "                            eg_colors, 'cat_order', job_levels,\n",
    "                            cf.jobs_dict,\n",
    "                            #attr1='ldate', oper1='<=', val1='1999-12-31',\n",
    "                            ds_dict=ds_dict, job_labels=False)\n",
    "                            "
   ]
  },
  {
   "cell_type": "code",
   "execution_count": null,
   "metadata": {
    "collapsed": false
   },
   "outputs": [],
   "source": [
    "%%time\n",
    "mp.group_average_and_median('p1', 'standalone', [1, 2, 3],\n",
    "                            eg_colors, 'jnum', job_levels,\n",
    "                            cf.jobs_dict, ds_dict=ds_dict,\n",
    "                            #attr1='age', oper1='>', val1='50'\n",
    "                            job_labels=False)"
   ]
  },
  {
   "cell_type": "code",
   "execution_count": null,
   "metadata": {
    "collapsed": false
   },
   "outputs": [],
   "source": [
    "%%time\n",
    "mp.stripplot_eg_density('p1', 40, eg_colors,\n",
    "                        #attr1='age', oper1='>=', val1='62',\n",
    "                        ds_dict=ds_dict, xsize=4)"
   ]
  },
  {
   "cell_type": "code",
   "execution_count": null,
   "metadata": {
    "collapsed": false
   },
   "outputs": [],
   "source": [
    "mp.job_count_bands(['standalone', 'p1', 'p2', 'p3'], [1, 2, 3], cf.job_colors, ds_dict=ds_dict,\n",
    "                   #attr1='ldate', oper1='<=', val1='1990-12-31',\n",
    "                   chart_style='whitegrid')"
   ]
  },
  {
   "cell_type": "code",
   "execution_count": null,
   "metadata": {
    "collapsed": false
   },
   "outputs": [],
   "source": [
    "df = ds_dict['p1'][0]"
   ]
  },
  {
   "cell_type": "code",
   "execution_count": null,
   "metadata": {
    "collapsed": true
   },
   "outputs": [],
   "source": [
    "df[df.date <= '1997']"
   ]
  },
  {
   "cell_type": "markdown",
   "metadata": {},
   "source": [
    "# Make colormap"
   ]
  },
  {
   "cell_type": "markdown",
   "metadata": {},
   "source": [
    "Note:  the following 3 cells are included only as an example of creating a custom colormap for charts...\n",
    "\n",
    "The cm_name variable must be a valid matplotlib colormap name"
   ]
  },
  {
   "cell_type": "code",
   "execution_count": null,
   "metadata": {
    "collapsed": false
   },
   "outputs": [],
   "source": [
    "cm_name='Paired'\n",
    "num_of_colors = 8 + 1\n",
    "cm_subsection = np.linspace(0, .75, num_of_colors)\n",
    "colormap = eval('cm.' + cm_name)\n",
    "colors = [colormap(x) for x in cm_subsection]"
   ]
  },
  {
   "cell_type": "code",
   "execution_count": null,
   "metadata": {
    "collapsed": false
   },
   "outputs": [],
   "source": [
    "colors"
   ]
  },
  {
   "cell_type": "markdown",
   "metadata": {},
   "source": [
    "seaborn method of viewing colors from list"
   ]
  },
  {
   "cell_type": "code",
   "execution_count": null,
   "metadata": {
    "collapsed": false
   },
   "outputs": [],
   "source": [
    "sns.palplot(colors)"
   ]
  },
  {
   "cell_type": "markdown",
   "metadata": {},
   "source": [
    "### custom plot example, eg job count over time, standalone vs. proposal"
   ]
  },
  {
   "cell_type": "code",
   "execution_count": null,
   "metadata": {
    "collapsed": false
   },
   "outputs": [],
   "source": [
    "%%time\n",
    "eg_num = 1\n",
    "\n",
    "fur_color = '#404040'\n",
    "j_colors = job_colors[:]\n",
    "j_colors.append(fur_color)\n",
    "\n",
    "stand = ds_dict['standalone'][0]\n",
    "p = ds_dict['p1'][0]\n",
    "\n",
    "base_jobs = stand[stand.eg==eg_num].groupby(['date', 'jnum']).size().astype(int).unstack()\n",
    "p_jobs = p[p.eg==eg_num].groupby(['date', 'jnum']).size().astype(int).unstack()\n",
    "\n",
    "base_jobs_cols = list(base_jobs.columns)\n",
    "p_jobs_cols = list(p_jobs.columns)\n",
    "\n",
    "base_jobs.plot(color=list(j_colors[i - 1] for i in base_jobs_cols))\n",
    "p_jobs.plot(color=list(j_colors[i - 1] for i in p_jobs_cols))\n",
    "\n",
    "plt.show()"
   ]
  },
  {
   "cell_type": "code",
   "execution_count": null,
   "metadata": {
    "collapsed": false
   },
   "outputs": [],
   "source": []
  },
  {
   "cell_type": "code",
   "execution_count": null,
   "metadata": {
    "collapsed": true
   },
   "outputs": [],
   "source": []
  },
  {
   "cell_type": "code",
   "execution_count": null,
   "metadata": {
    "collapsed": true
   },
   "outputs": [],
   "source": []
  },
  {
   "cell_type": "code",
   "execution_count": null,
   "metadata": {
    "collapsed": true
   },
   "outputs": [],
   "source": []
  },
  {
   "cell_type": "code",
   "execution_count": null,
   "metadata": {
    "collapsed": true
   },
   "outputs": [],
   "source": []
  },
  {
   "cell_type": "code",
   "execution_count": null,
   "metadata": {
    "collapsed": true
   },
   "outputs": [],
   "source": []
  },
  {
   "cell_type": "code",
   "execution_count": null,
   "metadata": {
    "collapsed": true
   },
   "outputs": [],
   "source": []
  },
  {
   "cell_type": "code",
   "execution_count": null,
   "metadata": {
    "collapsed": true
   },
   "outputs": [],
   "source": []
  },
  {
   "cell_type": "code",
   "execution_count": null,
   "metadata": {
    "collapsed": true
   },
   "outputs": [],
   "source": []
  },
  {
   "cell_type": "code",
   "execution_count": null,
   "metadata": {
    "collapsed": true
   },
   "outputs": [],
   "source": []
  },
  {
   "cell_type": "code",
   "execution_count": null,
   "metadata": {
    "collapsed": true
   },
   "outputs": [],
   "source": []
  },
  {
   "cell_type": "code",
   "execution_count": null,
   "metadata": {
    "collapsed": true
   },
   "outputs": [],
   "source": []
  },
  {
   "cell_type": "code",
   "execution_count": null,
   "metadata": {
    "collapsed": true
   },
   "outputs": [],
   "source": []
  },
  {
   "cell_type": "code",
   "execution_count": null,
   "metadata": {
    "collapsed": true
   },
   "outputs": [],
   "source": []
  },
  {
   "cell_type": "code",
   "execution_count": null,
   "metadata": {
    "collapsed": true
   },
   "outputs": [],
   "source": []
  },
  {
   "cell_type": "code",
   "execution_count": null,
   "metadata": {
    "collapsed": true
   },
   "outputs": [],
   "source": []
  },
  {
   "cell_type": "code",
   "execution_count": null,
   "metadata": {
    "collapsed": true
   },
   "outputs": [],
   "source": []
  },
  {
   "cell_type": "code",
   "execution_count": null,
   "metadata": {
    "collapsed": true
   },
   "outputs": [],
   "source": []
  },
  {
   "cell_type": "code",
   "execution_count": null,
   "metadata": {
    "collapsed": true
   },
   "outputs": [],
   "source": []
  }
 ],
 "metadata": {
  "anaconda-cloud": {},
  "kernelspec": {
   "display_name": "Python [conda root]",
   "language": "python",
   "name": "conda-root-py"
  },
  "language_info": {
   "codemirror_mode": {
    "name": "ipython",
    "version": 3
   },
   "file_extension": ".py",
   "mimetype": "text/x-python",
   "name": "python",
   "nbconvert_exporter": "python",
   "pygments_lexer": "ipython3",
   "version": "3.5.2"
  }
 },
 "nbformat": 4,
 "nbformat_minor": 0
}
