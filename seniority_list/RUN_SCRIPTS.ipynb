{
 "cells": [
  {
   "cell_type": "markdown",
   "metadata": {
    "collapsed": true
   },
   "source": [
    "RESTART kernel prior to running after any changes to config files..."
   ]
  },
  {
   "cell_type": "markdown",
   "metadata": {},
   "source": [
    "### import configuration and functions modules"
   ]
  },
  {
   "cell_type": "code",
   "execution_count": 1,
   "metadata": {
    "collapsed": false
   },
   "outputs": [
    {
     "name": "stdout",
     "output_type": "stream",
     "text": [
      "CPU times: user 448 ms, sys: 40 ms, total: 488 ms\n",
      "Wall time: 611 ms\n"
     ]
    }
   ],
   "source": [
    "%%time\n",
    "import config as cf\n",
    "import functions as f\n",
    "from list_builder import prepare_master_list, build_list"
   ]
  },
  {
   "cell_type": "markdown",
   "metadata": {},
   "source": [
    "### build pkl files\n",
    "master, fur, sg(special group), active_each_month, order proposals, month percentage"
   ]
  },
  {
   "cell_type": "code",
   "execution_count": 2,
   "metadata": {
    "collapsed": false
   },
   "outputs": [
    {
     "name": "stdout",
     "output_type": "stream",
     "text": [
      "CPU times: user 1.48 s, sys: 12 ms, total: 1.49 s\n",
      "Wall time: 1.5 s\n"
     ]
    }
   ],
   "source": [
    "%%time\n",
    "%run build_program_files"
   ]
  },
  {
   "cell_type": "markdown",
   "metadata": {},
   "source": [
    "### build compensation tables\n",
    "convert from input Excel file, detects config sample_mode if selected"
   ]
  },
  {
   "cell_type": "code",
   "execution_count": 4,
   "metadata": {
    "collapsed": false
   },
   "outputs": [
    {
     "name": "stdout",
     "output_type": "stream",
     "text": [
      "CPU times: user 128 ms, sys: 0 ns, total: 128 ms\n",
      "Wall time: 126 ms\n"
     ]
    }
   ],
   "source": [
    "%%time\n",
    "%run make_pay_tables_from_excel"
   ]
  },
  {
   "cell_type": "markdown",
   "metadata": {},
   "source": [
    "### skeleton"
   ]
  },
  {
   "cell_type": "code",
   "execution_count": 5,
   "metadata": {
    "collapsed": false
   },
   "outputs": [
    {
     "name": "stdout",
     "output_type": "stream",
     "text": [
      "CPU times: user 1.28 s, sys: 180 ms, total: 1.46 s\n",
      "Wall time: 1.62 s\n"
     ]
    }
   ],
   "source": [
    "%%time\n",
    "%run make_skeleton master"
   ]
  },
  {
   "cell_type": "markdown",
   "metadata": {},
   "source": [
    "### standalone\n",
    "standalone must be rerun after job level model change..."
   ]
  },
  {
   "cell_type": "code",
   "execution_count": 6,
   "metadata": {
    "collapsed": false
   },
   "outputs": [
    {
     "name": "stdout",
     "output_type": "stream",
     "text": [
      "CPU times: user 2.34 s, sys: 412 ms, total: 2.76 s\n",
      "Wall time: 2.87 s\n"
     ]
    }
   ],
   "source": [
    "%%time\n",
    "%run standalone prex"
   ]
  },
  {
   "cell_type": "markdown",
   "metadata": {},
   "source": [
    "### calculate for each list order\n",
    "(including list conditions, job count changes, and possible furlough recall schedule)"
   ]
  },
  {
   "cell_type": "code",
   "execution_count": 7,
   "metadata": {
    "collapsed": false
   },
   "outputs": [
    {
     "name": "stdout",
     "output_type": "stream",
     "text": [
      "CPU times: user 1.65 s, sys: 352 ms, total: 2 s\n",
      "Wall time: 2.13 s\n"
     ]
    }
   ],
   "source": [
    "%%time\n",
    "%run compute_measures p1 prex ratio"
   ]
  },
  {
   "cell_type": "code",
   "execution_count": 8,
   "metadata": {
    "collapsed": false
   },
   "outputs": [
    {
     "name": "stdout",
     "output_type": "stream",
     "text": [
      "CPU times: user 1.85 s, sys: 352 ms, total: 2.2 s\n",
      "Wall time: 2.54 s\n"
     ]
    }
   ],
   "source": [
    "%%time\n",
    "%run compute_measures p2 prex count"
   ]
  },
  {
   "cell_type": "code",
   "execution_count": 9,
   "metadata": {
    "collapsed": false
   },
   "outputs": [
    {
     "name": "stdout",
     "output_type": "stream",
     "text": [
      "CPU times: user 1.76 s, sys: 300 ms, total: 2.06 s\n",
      "Wall time: 2.25 s\n"
     ]
    }
   ],
   "source": [
    "%%time\n",
    "%run compute_measures p3 prex"
   ]
  },
  {
   "cell_type": "code",
   "execution_count": null,
   "metadata": {
    "collapsed": false
   },
   "outputs": [],
   "source": [
    "%%time\n",
    "#%run compute_measures award prex count"
   ]
  },
  {
   "cell_type": "markdown",
   "metadata": {},
   "source": [
    "### merge an ordered list with the master list"
   ]
  },
  {
   "cell_type": "code",
   "execution_count": 10,
   "metadata": {
    "collapsed": false
   },
   "outputs": [
    {
     "name": "stdout",
     "output_type": "stream",
     "text": [
      "            empkey  eg    lname        dob        doh      ldate  sg  fur  \\\n",
      "empkey                                                                      \n",
      "10011102  10011102   1  tooeyoo 1949-07-13 1973-02-26 1975-01-29   0    0   \n",
      "10010475  10010475   1  rubelot 1949-02-05 1975-05-27 1975-05-27   0    0   \n",
      "10013096  10013096   1  yeloxid 1949-01-08 1977-01-18 1977-01-18   0    0   \n",
      "10012178  10012178   1  xayeaue 1951-06-07 1977-11-15 1977-11-15   0    0   \n",
      "10014447  10014447   1  finuceu 1951-10-17 1977-12-09 1977-12-09   0    0   \n",
      "\n",
      "          line  eg_order    retdate  idx  \n",
      "empkey                                    \n",
      "10011102     1         1 2014-07-13    1  \n",
      "10010475     1         2 2014-02-05    2  \n",
      "10013096     1         3 2014-01-08    3  \n",
      "10012178     1         4 2016-06-07    6  \n",
      "10014447     1         5 2016-10-17    7  \n",
      "CPU times: user 2.16 s, sys: 8 ms, total: 2.16 s\n",
      "Wall time: 2.17 s\n"
     ]
    }
   ],
   "source": [
    "%%time\n",
    "%run join_inactives master p3 final ffill"
   ]
  },
  {
   "cell_type": "code",
   "execution_count": 11,
   "metadata": {
    "collapsed": false
   },
   "outputs": [
    {
     "name": "stdout",
     "output_type": "stream",
     "text": [
      "CPU times: user 0 ns, sys: 0 ns, total: 0 ns\n",
      "Wall time: 2.35 ms\n"
     ]
    },
    {
     "data": {
      "text/html": [
       "<div>\n",
       "<table border=\"1\" class=\"dataframe\">\n",
       "  <thead>\n",
       "    <tr style=\"text-align: right;\">\n",
       "      <th></th>\n",
       "      <th>setting</th>\n",
       "    </tr>\n",
       "    <tr>\n",
       "      <th>option</th>\n",
       "      <th></th>\n",
       "    </tr>\n",
       "  </thead>\n",
       "  <tbody>\n",
       "    <tr>\n",
       "      <th>annual_pcnt_raise</th>\n",
       "      <td>0.02</td>\n",
       "    </tr>\n",
       "    <tr>\n",
       "      <th>case_study</th>\n",
       "      <td>sample3</td>\n",
       "    </tr>\n",
       "    <tr>\n",
       "      <th>compute_job_category_order</th>\n",
       "      <td>True</td>\n",
       "    </tr>\n",
       "    <tr>\n",
       "      <th>compute_pay_measures</th>\n",
       "      <td>True</td>\n",
       "    </tr>\n",
       "    <tr>\n",
       "      <th>compute_with_job_changes</th>\n",
       "      <td>True</td>\n",
       "    </tr>\n",
       "    <tr>\n",
       "      <th>delayed_implementation</th>\n",
       "      <td>True</td>\n",
       "    </tr>\n",
       "    <tr>\n",
       "      <th>discount_longev_for_fur</th>\n",
       "      <td>True</td>\n",
       "    </tr>\n",
       "    <tr>\n",
       "      <th>enhanced_jobs</th>\n",
       "      <td>True</td>\n",
       "    </tr>\n",
       "    <tr>\n",
       "      <th>full_time_pcnt1</th>\n",
       "      <td>0.6</td>\n",
       "    </tr>\n",
       "    <tr>\n",
       "      <th>full_time_pcnt2</th>\n",
       "      <td>0.65</td>\n",
       "    </tr>\n",
       "    <tr>\n",
       "      <th>implementation_date</th>\n",
       "      <td>2016-10-31</td>\n",
       "    </tr>\n",
       "    <tr>\n",
       "      <th>lspcnt_calc_on_remaining_population</th>\n",
       "      <td>False</td>\n",
       "    </tr>\n",
       "    <tr>\n",
       "      <th>no_bump</th>\n",
       "      <td>True</td>\n",
       "    </tr>\n",
       "    <tr>\n",
       "      <th>num_of_job_levels</th>\n",
       "      <td>16</td>\n",
       "    </tr>\n",
       "    <tr>\n",
       "      <th>pay_raise</th>\n",
       "      <td>False</td>\n",
       "    </tr>\n",
       "    <tr>\n",
       "      <th>recall</th>\n",
       "      <td>True</td>\n",
       "    </tr>\n",
       "    <tr>\n",
       "      <th>ret_age</th>\n",
       "      <td>65</td>\n",
       "    </tr>\n",
       "    <tr>\n",
       "      <th>starting_date</th>\n",
       "      <td>2013-12-31</td>\n",
       "    </tr>\n",
       "    <tr>\n",
       "      <th>top_of_scale</th>\n",
       "      <td>12</td>\n",
       "    </tr>\n",
       "  </tbody>\n",
       "</table>\n",
       "</div>"
      ],
      "text/plain": [
       "                                        setting\n",
       "option                                         \n",
       "annual_pcnt_raise                          0.02\n",
       "case_study                              sample3\n",
       "compute_job_category_order                 True\n",
       "compute_pay_measures                       True\n",
       "compute_with_job_changes                   True\n",
       "delayed_implementation                     True\n",
       "discount_longev_for_fur                    True\n",
       "enhanced_jobs                              True\n",
       "full_time_pcnt1                             0.6\n",
       "full_time_pcnt2                            0.65\n",
       "implementation_date                  2016-10-31\n",
       "lspcnt_calc_on_remaining_population       False\n",
       "no_bump                                    True\n",
       "num_of_job_levels                            16\n",
       "pay_raise                                 False\n",
       "recall                                     True\n",
       "ret_age                                      65\n",
       "starting_date                        2013-12-31\n",
       "top_of_scale                                 12"
      ]
     },
     "execution_count": 11,
     "metadata": {},
     "output_type": "execute_result"
    }
   ],
   "source": [
    "%%time\n",
    "f.print_config_selections()"
   ]
  },
  {
   "cell_type": "markdown",
   "metadata": {},
   "source": [
    "### cells below for demonstration only"
   ]
  },
  {
   "cell_type": "markdown",
   "metadata": {},
   "source": [
    "### build a 'hybrid' list example:\n",
    "(stored as 'dill/hybrid.pkl')"
   ]
  },
  {
   "cell_type": "code",
   "execution_count": 12,
   "metadata": {
    "collapsed": false
   },
   "outputs": [
    {
     "name": "stdout",
     "output_type": "stream",
     "text": [
      "CPU times: user 168 ms, sys: 12 ms, total: 180 ms\n",
      "Wall time: 177 ms\n"
     ]
    }
   ],
   "source": [
    "%%time\n",
    "# this will build a \"hybrid\" list with equal weighting given to longevity and standalone job position\n",
    "master = prepare_master_list()\n",
    "build_list(master, ['ldate', 'jobp'], [.5, .5])"
   ]
  },
  {
   "cell_type": "code",
   "execution_count": 13,
   "metadata": {
    "collapsed": false
   },
   "outputs": [
    {
     "name": "stdout",
     "output_type": "stream",
     "text": [
      "CPU times: user 1.63 s, sys: 368 ms, total: 2 s\n",
      "Wall time: 2.13 s\n"
     ]
    }
   ],
   "source": [
    "%%time\n",
    "# generate dataset for the hybrid list\n",
    "%run compute_measures hybrid prex"
   ]
  },
  {
   "cell_type": "markdown",
   "metadata": {},
   "source": [
    "### sample of files created"
   ]
  },
  {
   "cell_type": "code",
   "execution_count": 14,
   "metadata": {
    "collapsed": false
   },
   "outputs": [
    {
     "name": "stdout",
     "output_type": "stream",
     "text": [
      "< MASTER > \n",
      " row count: 7510 \n",
      " column count: 11 \n",
      " Index(['empkey', 'eg', 'lname', 'dob', 'doh', 'ldate', 'sg', 'fur', 'line',\n",
      "       'eg_order', 'retdate'],\n",
      "      dtype='object') \n",
      " \n",
      "             empkey  eg    lname        dob        doh      ldate  sg  fur  line  eg_order    retdate\n",
      "empkey                                                                                              \n",
      "10011102  10011102   1  tooeyoo 1949-07-13 1973-02-26 1975-01-29   0    0     1         1 2014-07-13\n",
      "10010475  10010475   1  rubelot 1949-02-05 1975-05-27 1975-05-27   0    0     1         2 2014-02-05\n",
      "10013096  10013096   1  yeloxid 1949-01-08 1977-01-18 1977-01-18   0    0     1         3 2014-01-08\n",
      "10012178  10012178   1  xayeaue 1951-06-07 1977-11-15 1977-11-15   0    0     1         4 2016-06-07\n",
      "10014447  10014447   1  finuceu 1951-10-17 1977-12-09 1977-12-09   0    0     1         5 2016-10-17 \n",
      "\n",
      " -------------------------------------------------------------------------------- \n",
      "\n",
      "< SKELETON > \n",
      " row count: 930850 \n",
      " column count: 19 \n",
      " Index(['mnum', 'idx', 'empkey', 'mth_pcnt', 'date', 'year', 'pay_raise', 'fur',\n",
      "       'eg', 'retdate', 'doh', 'ldate', 'lname', 'line', 'sg', 'ret_mark',\n",
      "       'scale', 's_lmonths', 'age'],\n",
      "      dtype='object') \n",
      " \n",
      "           mnum  idx    empkey  mth_pcnt       date    year  pay_raise  fur  eg    retdate        doh      ldate  \\\n",
      "empkey                                                                                                            \n",
      "10011102     0    0  10011102       1.0 2013-12-31  2013.0        1.0    0   1 2014-07-13 1973-02-26 1975-01-29   \n",
      "10010475     0    1  10010475       1.0 2013-12-31  2013.0        1.0    0   1 2014-02-05 1975-05-27 1975-05-27   \n",
      "10013096     0    2  10013096       1.0 2013-12-31  2013.0        1.0    0   1 2014-01-08 1977-01-18 1977-01-18   \n",
      "10012178     0    3  10012178       1.0 2013-12-31  2013.0        1.0    0   1 2016-06-07 1977-11-15 1977-11-15   \n",
      "10014447     0    4  10014447       1.0 2013-12-31  2013.0        1.0    0   1 2016-10-17 1977-12-09 1977-12-09   \n",
      "\n",
      "            lname  line  sg  ret_mark  scale  s_lmonths        age  \n",
      "empkey                                                              \n",
      "10011102  tooeyoo     1   0         0     12        467  64.465054  \n",
      "10010475  rubelot     1   0         0     12        463  64.903226  \n",
      "10013096  yeloxid     1   0         0     12        443  64.978495  \n",
      "10012178  xayeaue     1   0         0     12        433  62.564516  \n",
      "10014447  finuceu     1   0         0     12        432  62.204301   \n",
      "\n",
      " -------------------------------------------------------------------------------- \n",
      "\n",
      "< STANDALONE > \n",
      " row count: 930850 \n",
      " column count: 32 \n",
      " Index(['mnum', 'idx', 'empkey', 'mth_pcnt', 'date', 'year', 'pay_raise', 'fur',\n",
      "       'eg', 'retdate', 'doh', 'ldate', 'lname', 'line', 'sg', 'ret_mark',\n",
      "       'scale', 's_lmonths', 'age', 'held', 'job_count', 'orig_job', 'jnum',\n",
      "       'lnum', 'lspcnt', 'snum', 'spcnt', 'rank_in_job', 'jobp', 'mpay',\n",
      "       'cpay', 'cat_order'],\n",
      "      dtype='object') \n",
      " \n",
      "           mnum   idx    empkey  mth_pcnt       date    year  pay_raise  fur  eg    retdate        doh      ldate  \\\n",
      "empkey                                                                                                             \n",
      "10011102     0     0  10011102       1.0 2013-12-31  2013.0        1.0    0   1 2014-07-13 1973-02-26 1975-01-29   \n",
      "20010692     0  4256  20010692       1.0 2013-12-31  2013.0        1.0    0   2 2016-03-04 1974-04-16 1975-04-25   \n",
      "30010651     0  5705  30010651       1.0 2013-12-31  2013.0        1.0    0   3 2019-02-17 1983-06-14 1983-06-14   \n",
      "10010475     0     1  10010475       1.0 2013-12-31  2013.0        1.0    0   1 2014-02-05 1975-05-27 1975-05-27   \n",
      "20011034     0  4257  20011034       1.0 2013-12-31  2013.0        1.0    0   2 2014-07-15 1977-03-12 1977-03-12   \n",
      "\n",
      "            lname  line  sg  ret_mark  scale  s_lmonths        age  held  job_count  orig_job  jnum  lnum    lspcnt  \\\n",
      "empkey                                                                                                                \n",
      "10011102  tooeyoo     1   0         0     12        467  64.465054     0        118         0     1     1  0.000235   \n",
      "20010692  eafeuir     1   0         0     12        464  62.822581     0         48         0     1     1  0.000690   \n",
      "30010651    vuout     1   0         0     12        366  59.870968     0         16         0     3     1  0.001408   \n",
      "10010475  rubelot     1   0         0     12        463  64.903226     0        118         0     1     2  0.000470   \n",
      "20011034  cibofen     1   0         0     12        441  64.459677     0         48         0     1     2  0.001380   \n",
      "\n",
      "          snum     spcnt  rank_in_job      jobp     mpay     cpay  cat_order  \n",
      "empkey                                                                        \n",
      "10011102   1.0  0.000257            1  1.008375  11.0415  11.0415        1.0  \n",
      "20010692   1.0  0.000689            1  1.020733  11.0415  11.0415        3.0  \n",
      "30010651   1.0  0.001458            1  3.062400   9.3840   9.3840      299.0  \n",
      "10010475   2.0  0.000515            2  1.016849  11.0415  11.0415        2.0  \n",
      "20011034   2.0  0.001378            2  1.041567  11.0415  11.0415        6.0   \n",
      "\n",
      " -------------------------------------------------------------------------------- \n",
      "\n",
      "< P_P1 > \n",
      " row count: 7510 \n",
      " column count: 1 \n",
      " Index(['idx'], dtype='object') \n",
      " \n",
      "           idx\n",
      "empkey       \n",
      "10011102    1\n",
      "10010475    2\n",
      "10013096    3\n",
      "10012178    4\n",
      "10014447    5 \n",
      "\n",
      " -------------------------------------------------------------------------------- \n",
      "\n",
      "< PAY_TABLE_ENHANCED > \n",
      " row count: 1632 \n",
      " column count: 1 \n",
      " Index(['monthly'], dtype='object') \n",
      " \n",
      "              monthly\n",
      "ptindex             \n",
      "201300101.0  2152.20\n",
      "201300102.0  1873.68\n",
      "201300103.0  2152.20\n",
      "201300104.0  2152.20\n",
      "201300105.0  1873.68 \n",
      "\n",
      " -------------------------------------------------------------------------------- \n",
      "\n",
      "< DS_P1 > \n",
      " row count: 930850 \n",
      " column count: 36 \n",
      " Index(['mnum', 'idx', 'empkey', 'mth_pcnt', 'date', 'year', 'pay_raise', 'fur',\n",
      "       'eg', 'retdate', 'doh', 'ldate', 'lname', 'line', 'sg', 'ret_mark',\n",
      "       'scale', 's_lmonths', 'age', 'new_order', 'orig_job', 'func_job',\n",
      "       'jnum', 'fbff', 'snum', 'spcnt', 'lnum', 'lspcnt', 'rank_in_job',\n",
      "       'job_count', 'jobp', 'cat_order', 'mlong', 'ylong', 'mpay', 'cpay'],\n",
      "      dtype='object') \n",
      " \n",
      "           mnum  idx    empkey  mth_pcnt       date    year  pay_raise  fur  eg    retdate        doh      ldate  \\\n",
      "empkey                                                                                                            \n",
      "10011102     0    0  10011102       1.0 2013-12-31  2013.0        1.0    0   1 2014-07-13 1973-02-26 1975-01-29   \n",
      "10010475     0    1  10010475       1.0 2013-12-31  2013.0        1.0    0   1 2014-02-05 1975-05-27 1975-05-27   \n",
      "10013096     0    2  10013096       1.0 2013-12-31  2013.0        1.0    0   1 2014-01-08 1977-01-18 1977-01-18   \n",
      "10012178     0    3  10012178       1.0 2013-12-31  2013.0        1.0    0   1 2016-06-07 1977-11-15 1977-11-15   \n",
      "10014447     0    4  10014447       1.0 2013-12-31  2013.0        1.0    0   1 2016-10-17 1977-12-09 1977-12-09   \n",
      "\n",
      "            lname  line  sg  ret_mark  scale  s_lmonths        age  new_order  orig_job  func_job  jnum  fbff  snum  \\\n",
      "empkey                                                                                                                \n",
      "10011102  tooeyoo     1   0         0     12        467  64.465054          1       1.0         1     1     1   1.0   \n",
      "10010475  rubelot     1   0         0     12        463  64.903226          2       1.0         1     1     1   2.0   \n",
      "10013096  yeloxid     1   0         0     12        443  64.978495          3       1.0         1     1     1   3.0   \n",
      "10012178  xayeaue     1   0         0     12        433  62.564516          4       1.0         1     1     1   4.0   \n",
      "10014447  finuceu     1   0         0     12        432  62.204301          5       1.0         1     1     1   5.0   \n",
      "\n",
      "             spcnt  lnum    lspcnt  rank_in_job  job_count      jobp  cat_order  mlong      ylong     mpay     cpay  \n",
      "empkey                                                                                                               \n",
      "10011102  0.000166     1  0.000156            1        166  1.005024        1.0    468  39.000000  11.0415  11.0415  \n",
      "10010475  0.000332     2  0.000312            2        166  1.011048        2.0    464  38.666667  11.0415  11.0415  \n",
      "10013096  0.000498     3  0.000468            3        166  1.017072        4.0    444  37.000000  11.0415  11.0415  \n",
      "10012178  0.000664     4  0.000624            4        166  1.023096        5.0    434  36.166667  11.0415  11.0415  \n",
      "10014447  0.000830     5  0.000779            5        166  1.029120        7.0    433  36.083333  11.0415  11.0415   \n",
      "\n",
      " -------------------------------------------------------------------------------- \n",
      "\n",
      "< P_HYBRID > \n",
      " row count: 6415 \n",
      " column count: 1 \n",
      " Index(['idx'], dtype='object') \n",
      " \n",
      "           idx\n",
      "empkey       \n",
      "10011102    1\n",
      "10010475    2\n",
      "20010692    3\n",
      "10013096    4\n",
      "20011034    5 \n",
      "\n",
      " -------------------------------------------------------------------------------- \n",
      "\n",
      "< SAMPLE3_FINAL > \n",
      " row count: 7510 \n",
      " column count: 12 \n",
      " Index(['empkey', 'eg', 'lname', 'dob', 'doh', 'ldate', 'sg', 'fur', 'line',\n",
      "       'eg_order', 'retdate', 'snum'],\n",
      "      dtype='object') \n",
      " \n",
      "             empkey  eg    lname        dob        doh      ldate  sg  fur  line  eg_order    retdate  snum\n",
      "empkey                                                                                                    \n",
      "10011102  10011102   1  tooeyoo 1949-07-13 1973-02-26 1975-01-29   0    0     1         1 2014-07-13     1\n",
      "10010475  10010475   1  rubelot 1949-02-05 1975-05-27 1975-05-27   0    0     1         2 2014-02-05     2\n",
      "10013096  10013096   1  yeloxid 1949-01-08 1977-01-18 1977-01-18   0    0     1         3 2014-01-08     3\n",
      "20010692  20010692   2  eafeuir 1951-03-04 1974-04-16 1975-04-25   0    0     1         1 2016-03-04     4\n",
      "20011034  20011034   2  cibofen 1949-07-15 1977-03-12 1977-03-12   0    0     1         2 2014-07-15     5 \n",
      "\n",
      " -------------------------------------------------------------------------------- \n",
      "\n",
      "CPU times: user 220 ms, sys: 100 ms, total: 320 ms\n",
      "Wall time: 319 ms\n"
     ]
    }
   ],
   "source": [
    "%%time\n",
    "# print only the first 5 lines of each file\n",
    "file_names = ['master', 'skeleton', 'standalone', 'p_p1', 'pay_table_enhanced', 'ds_p1', 'p_hybrid', cf.case_study + '_final']\n",
    "for file in file_names:\n",
    "    df = pd.read_pickle('dill/' + file + '.pkl')\n",
    "    print('< ' + file.upper() + ' >', '\\n', 'row count: ' + str(len(df)),\n",
    "        '\\n', 'column count: '+ str(len(df.columns)), '\\n',\n",
    "        df.columns, '\\n',\n",
    "        '\\n', df.head().to_string(line_width=120), '\\n\\n', '-' * 80, '\\n')"
   ]
  },
  {
   "cell_type": "code",
   "execution_count": null,
   "metadata": {
    "collapsed": true
   },
   "outputs": [],
   "source": []
  },
  {
   "cell_type": "code",
   "execution_count": null,
   "metadata": {
    "collapsed": true
   },
   "outputs": [],
   "source": []
  },
  {
   "cell_type": "code",
   "execution_count": null,
   "metadata": {
    "collapsed": true
   },
   "outputs": [],
   "source": []
  },
  {
   "cell_type": "code",
   "execution_count": null,
   "metadata": {
    "collapsed": true
   },
   "outputs": [],
   "source": []
  },
  {
   "cell_type": "code",
   "execution_count": null,
   "metadata": {
    "collapsed": true
   },
   "outputs": [],
   "source": []
  },
  {
   "cell_type": "code",
   "execution_count": null,
   "metadata": {
    "collapsed": true
   },
   "outputs": [],
   "source": []
  },
  {
   "cell_type": "code",
   "execution_count": null,
   "metadata": {
    "collapsed": true
   },
   "outputs": [],
   "source": []
  },
  {
   "cell_type": "code",
   "execution_count": null,
   "metadata": {
    "collapsed": true
   },
   "outputs": [],
   "source": []
  },
  {
   "cell_type": "code",
   "execution_count": null,
   "metadata": {
    "collapsed": true
   },
   "outputs": [],
   "source": []
  },
  {
   "cell_type": "code",
   "execution_count": null,
   "metadata": {
    "collapsed": true
   },
   "outputs": [],
   "source": []
  },
  {
   "cell_type": "code",
   "execution_count": null,
   "metadata": {
    "collapsed": true
   },
   "outputs": [],
   "source": []
  },
  {
   "cell_type": "code",
   "execution_count": null,
   "metadata": {
    "collapsed": true
   },
   "outputs": [],
   "source": []
  },
  {
   "cell_type": "code",
   "execution_count": null,
   "metadata": {
    "collapsed": true
   },
   "outputs": [],
   "source": []
  },
  {
   "cell_type": "code",
   "execution_count": null,
   "metadata": {
    "collapsed": true
   },
   "outputs": [],
   "source": []
  },
  {
   "cell_type": "code",
   "execution_count": null,
   "metadata": {
    "collapsed": true
   },
   "outputs": [],
   "source": []
  },
  {
   "cell_type": "code",
   "execution_count": null,
   "metadata": {
    "collapsed": true
   },
   "outputs": [],
   "source": []
  },
  {
   "cell_type": "code",
   "execution_count": null,
   "metadata": {
    "collapsed": true
   },
   "outputs": [],
   "source": []
  },
  {
   "cell_type": "code",
   "execution_count": null,
   "metadata": {
    "collapsed": true
   },
   "outputs": [],
   "source": []
  }
 ],
 "metadata": {
  "anaconda-cloud": {},
  "kernelspec": {
   "display_name": "Python [conda root]",
   "language": "python",
   "name": "conda-root-py"
  },
  "language_info": {
   "codemirror_mode": {
    "name": "ipython",
    "version": 3
   },
   "file_extension": ".py",
   "mimetype": "text/x-python",
   "name": "python",
   "nbconvert_exporter": "python",
   "pygments_lexer": "ipython3",
   "version": "3.5.2"
  }
 },
 "nbformat": 4,
 "nbformat_minor": 0
}
