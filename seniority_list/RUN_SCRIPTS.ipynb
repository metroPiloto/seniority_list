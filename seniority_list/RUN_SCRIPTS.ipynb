{
 "cells": [
  {
   "cell_type": "markdown",
   "metadata": {
    "collapsed": true,
    "deletable": true,
    "editable": true
   },
   "source": [
    "RESTART kernel prior to running after any changes to config files..."
   ]
  },
  {
   "cell_type": "markdown",
   "metadata": {
    "deletable": true,
    "editable": true
   },
   "source": [
    "### import configuration and functions modules"
   ]
  },
  {
   "cell_type": "code",
   "execution_count": 1,
   "metadata": {
    "collapsed": false,
    "deletable": true,
    "editable": true
   },
   "outputs": [
    {
     "name": "stdout",
     "output_type": "stream",
     "text": [
      "CPU times: user 444 ms, sys: 24 ms, total: 468 ms\n",
      "Wall time: 472 ms\n"
     ]
    }
   ],
   "source": [
    "%%time\n",
    "import functions as f\n",
    "import list_builder as lb\n",
    "import pandas as pd\n",
    "\n",
    "import numpy as np\n",
    "np.set_printoptions(linewidth=120, edgeitems=10)"
   ]
  },
  {
   "cell_type": "markdown",
   "metadata": {
    "deletable": true,
    "editable": true
   },
   "source": [
    "### build program files\n",
    "dataframe pickle files: master, fur, sg(special group), active_each_month, order proposals, month percentage\n",
    "\n",
    "dictionary pickle files: settings_dict, color_dict\n",
    "\n",
    "pay data pickle files: pay_table_basic, pay_table_enhanced\n",
    "\n",
    "pay data spreadsheet workbook: pay_table_data.xlsx (in reports folder)\n",
    "\n",
    "#### note: add case study name after script name"
   ]
  },
  {
   "cell_type": "code",
   "execution_count": 2,
   "metadata": {
    "collapsed": false,
    "deletable": true,
    "editable": true,
    "scrolled": false
   },
   "outputs": [
    {
     "name": "stdout",
     "output_type": "stream",
     "text": [
      "CPU times: user 2.54 s, sys: 28 ms, total: 2.57 s\n",
      "Wall time: 2.57 s\n"
     ]
    }
   ],
   "source": [
    "%%time\n",
    "%run build_program_files sample3"
   ]
  },
  {
   "cell_type": "markdown",
   "metadata": {
    "deletable": true,
    "editable": true
   },
   "source": [
    "### skeleton"
   ]
  },
  {
   "cell_type": "code",
   "execution_count": 3,
   "metadata": {
    "collapsed": false,
    "deletable": true,
    "editable": true
   },
   "outputs": [
    {
     "name": "stdout",
     "output_type": "stream",
     "text": [
      "CPU times: user 888 ms, sys: 180 ms, total: 1.07 s\n",
      "Wall time: 1.03 s\n"
     ]
    }
   ],
   "source": [
    "%%time\n",
    "%run make_skeleton"
   ]
  },
  {
   "cell_type": "markdown",
   "metadata": {
    "deletable": true,
    "editable": true
   },
   "source": [
    "### standalone\n",
    "standalone must be rerun after job level model change..."
   ]
  },
  {
   "cell_type": "code",
   "execution_count": 4,
   "metadata": {
    "collapsed": false,
    "deletable": true,
    "editable": true
   },
   "outputs": [
    {
     "name": "stdout",
     "output_type": "stream",
     "text": [
      "CPU times: user 2.49 s, sys: 396 ms, total: 2.88 s\n",
      "Wall time: 2.8 s\n"
     ]
    }
   ],
   "source": [
    "%%time\n",
    "%run standalone prex"
   ]
  },
  {
   "cell_type": "markdown",
   "metadata": {
    "deletable": true,
    "editable": true
   },
   "source": [
    "### calculate for each list order\n",
    "(including list conditions, job count changes, and possible furlough recall schedule)\n",
    "\n",
    "The cells below run the compute_measures script with proposals p1, p2, and p3.  All scenarios include a \"prex\" or pre-existing job assignment condition.  The first case includes a ratio condition and the second case includes a count-ratio condition."
   ]
  },
  {
   "cell_type": "code",
   "execution_count": 5,
   "metadata": {
    "collapsed": false,
    "deletable": true,
    "editable": true,
    "scrolled": false
   },
   "outputs": [
    {
     "name": "stdout",
     "output_type": "stream",
     "text": [
      "CPU times: user 1.55 s, sys: 340 ms, total: 1.89 s\n",
      "Wall time: 1.79 s\n"
     ]
    }
   ],
   "source": [
    "%%time\n",
    "%run compute_measures p1 prex ratio"
   ]
  },
  {
   "cell_type": "code",
   "execution_count": 6,
   "metadata": {
    "collapsed": false,
    "deletable": true,
    "editable": true
   },
   "outputs": [
    {
     "name": "stdout",
     "output_type": "stream",
     "text": [
      "CPU times: user 1.51 s, sys: 344 ms, total: 1.86 s\n",
      "Wall time: 1.76 s\n"
     ]
    }
   ],
   "source": [
    "%%time\n",
    "%run compute_measures p2 prex count"
   ]
  },
  {
   "cell_type": "code",
   "execution_count": 7,
   "metadata": {
    "collapsed": false,
    "deletable": true,
    "editable": true
   },
   "outputs": [
    {
     "name": "stdout",
     "output_type": "stream",
     "text": [
      "CPU times: user 1.42 s, sys: 416 ms, total: 1.84 s\n",
      "Wall time: 1.72 s\n"
     ]
    }
   ],
   "source": [
    "%%time\n",
    "%run compute_measures p3 prex"
   ]
  },
  {
   "cell_type": "markdown",
   "metadata": {
    "deletable": true,
    "editable": true
   },
   "source": [
    "### merge an ordered list with the master list"
   ]
  },
  {
   "cell_type": "code",
   "execution_count": 14,
   "metadata": {
    "collapsed": false,
    "deletable": true,
    "editable": true
   },
   "outputs": [
    {
     "name": "stdout",
     "output_type": "stream",
     "text": [
      "CPU times: user 2.22 s, sys: 8 ms, total: 2.22 s\n",
      "Wall time: 2.22 s\n"
     ]
    }
   ],
   "source": [
    "%%time\n",
    "%run join_inactives p3 ffill"
   ]
  },
  {
   "cell_type": "code",
   "execution_count": 15,
   "metadata": {
    "collapsed": false,
    "deletable": true,
    "editable": true,
    "scrolled": false
   },
   "outputs": [
    {
     "name": "stdout",
     "output_type": "stream",
     "text": [
      "CPU times: user 8 ms, sys: 0 ns, total: 8 ms\n",
      "Wall time: 5.57 ms\n"
     ]
    },
    {
     "data": {
      "text/html": [
       "<div>\n",
       "<table border=\"1\" class=\"dataframe\">\n",
       "  <thead>\n",
       "    <tr style=\"text-align: right;\">\n",
       "      <th></th>\n",
       "      <th>setting</th>\n",
       "    </tr>\n",
       "    <tr>\n",
       "      <th>option</th>\n",
       "      <th></th>\n",
       "    </tr>\n",
       "  </thead>\n",
       "  <tbody>\n",
       "    <tr>\n",
       "      <th>add_doh_col</th>\n",
       "      <td>1</td>\n",
       "    </tr>\n",
       "    <tr>\n",
       "      <th>add_eg_col</th>\n",
       "      <td>1</td>\n",
       "    </tr>\n",
       "    <tr>\n",
       "      <th>add_ldate_col</th>\n",
       "      <td>1</td>\n",
       "    </tr>\n",
       "    <tr>\n",
       "      <th>add_line_col</th>\n",
       "      <td>1</td>\n",
       "    </tr>\n",
       "    <tr>\n",
       "      <th>add_lname_col</th>\n",
       "      <td>1</td>\n",
       "    </tr>\n",
       "    <tr>\n",
       "      <th>add_ret_mark</th>\n",
       "      <td>1</td>\n",
       "    </tr>\n",
       "    <tr>\n",
       "      <th>add_retdate_col</th>\n",
       "      <td>1</td>\n",
       "    </tr>\n",
       "    <tr>\n",
       "      <th>add_sg_col</th>\n",
       "      <td>1</td>\n",
       "    </tr>\n",
       "    <tr>\n",
       "      <th>annual_pcnt_raise</th>\n",
       "      <td>0.02</td>\n",
       "    </tr>\n",
       "    <tr>\n",
       "      <th>case_study</th>\n",
       "      <td>sample3</td>\n",
       "    </tr>\n",
       "    <tr>\n",
       "      <th>compute_job_category_order</th>\n",
       "      <td>1</td>\n",
       "    </tr>\n",
       "    <tr>\n",
       "      <th>compute_pay_measures</th>\n",
       "      <td>1</td>\n",
       "    </tr>\n",
       "    <tr>\n",
       "      <th>compute_with_job_changes</th>\n",
       "      <td>1</td>\n",
       "    </tr>\n",
       "    <tr>\n",
       "      <th>count_dist</th>\n",
       "      <td>split</td>\n",
       "    </tr>\n",
       "    <tr>\n",
       "      <th>count_final_month</th>\n",
       "      <td>0</td>\n",
       "    </tr>\n",
       "    <tr>\n",
       "      <th>date_exception_end</th>\n",
       "      <td>2014-12-31 00:00:00</td>\n",
       "    </tr>\n",
       "    <tr>\n",
       "      <th>date_exception_start</th>\n",
       "      <td>2014-12-31 00:00:00</td>\n",
       "    </tr>\n",
       "    <tr>\n",
       "      <th>delayed_implementation</th>\n",
       "      <td>1</td>\n",
       "    </tr>\n",
       "    <tr>\n",
       "      <th>discount_longev_for_fur</th>\n",
       "      <td>1</td>\n",
       "    </tr>\n",
       "    <tr>\n",
       "      <th>end_date</th>\n",
       "      <td>0</td>\n",
       "    </tr>\n",
       "    <tr>\n",
       "      <th>enhanced_jobs</th>\n",
       "      <td>1</td>\n",
       "    </tr>\n",
       "    <tr>\n",
       "      <th>enhanced_jobs_full_suffix</th>\n",
       "      <td>B</td>\n",
       "    </tr>\n",
       "    <tr>\n",
       "      <th>enhanced_jobs_part_suffix</th>\n",
       "      <td>R</td>\n",
       "    </tr>\n",
       "    <tr>\n",
       "      <th>future_raise</th>\n",
       "      <td>0</td>\n",
       "    </tr>\n",
       "    <tr>\n",
       "      <th>imp_date</th>\n",
       "      <td>2016-10-31 00:00:00</td>\n",
       "    </tr>\n",
       "    <tr>\n",
       "      <th>imp_month</th>\n",
       "      <td>34</td>\n",
       "    </tr>\n",
       "    <tr>\n",
       "      <th>implementation_date</th>\n",
       "      <td>2016-10-31 00:00:00</td>\n",
       "    </tr>\n",
       "    <tr>\n",
       "      <th>init_ret_age</th>\n",
       "      <td>65</td>\n",
       "    </tr>\n",
       "    <tr>\n",
       "      <th>init_ret_age_months</th>\n",
       "      <td>0</td>\n",
       "    </tr>\n",
       "    <tr>\n",
       "      <th>init_ret_age_years</th>\n",
       "      <td>65</td>\n",
       "    </tr>\n",
       "    <tr>\n",
       "      <th>int_job_counts</th>\n",
       "      <td>0</td>\n",
       "    </tr>\n",
       "    <tr>\n",
       "      <th>job_levels_basic</th>\n",
       "      <td>8</td>\n",
       "    </tr>\n",
       "    <tr>\n",
       "      <th>job_levels_enhanced</th>\n",
       "      <td>16</td>\n",
       "    </tr>\n",
       "    <tr>\n",
       "      <th>last_contract_year</th>\n",
       "      <td>2019</td>\n",
       "    </tr>\n",
       "    <tr>\n",
       "      <th>lspcnt_calc_on_remaining_population</th>\n",
       "      <td>0</td>\n",
       "    </tr>\n",
       "    <tr>\n",
       "      <th>no_bump</th>\n",
       "      <td>1</td>\n",
       "    </tr>\n",
       "    <tr>\n",
       "      <th>num_of_job_levels</th>\n",
       "      <td>16</td>\n",
       "    </tr>\n",
       "    <tr>\n",
       "      <th>pay_table_exception_year</th>\n",
       "      <td>2014.1</td>\n",
       "    </tr>\n",
       "    <tr>\n",
       "      <th>pay_table_longevity_sort</th>\n",
       "      <td>7</td>\n",
       "    </tr>\n",
       "    <tr>\n",
       "      <th>pay_table_year_sort</th>\n",
       "      <td>2018</td>\n",
       "    </tr>\n",
       "    <tr>\n",
       "      <th>ratio_dist</th>\n",
       "      <td>split</td>\n",
       "    </tr>\n",
       "    <tr>\n",
       "      <th>recall</th>\n",
       "      <td>1</td>\n",
       "    </tr>\n",
       "    <tr>\n",
       "      <th>ret_age</th>\n",
       "      <td>65</td>\n",
       "    </tr>\n",
       "    <tr>\n",
       "      <th>ret_age_increase</th>\n",
       "      <td>0</td>\n",
       "    </tr>\n",
       "    <tr>\n",
       "      <th>save_to_pickle</th>\n",
       "      <td>1</td>\n",
       "    </tr>\n",
       "    <tr>\n",
       "      <th>sg_dist</th>\n",
       "      <td>part</td>\n",
       "    </tr>\n",
       "    <tr>\n",
       "      <th>start</th>\n",
       "      <td>2013-12-31 00:00:00</td>\n",
       "    </tr>\n",
       "    <tr>\n",
       "      <th>starting_date</th>\n",
       "      <td>2013-12-31 00:00:00</td>\n",
       "    </tr>\n",
       "    <tr>\n",
       "      <th>stripplot_full_time_pcnt</th>\n",
       "      <td>0</td>\n",
       "    </tr>\n",
       "    <tr>\n",
       "      <th>top_of_scale</th>\n",
       "      <td>12</td>\n",
       "    </tr>\n",
       "  </tbody>\n",
       "</table>\n",
       "</div>"
      ],
      "text/plain": [
       "                                                 setting\n",
       "option                                                  \n",
       "add_doh_col                                            1\n",
       "add_eg_col                                             1\n",
       "add_ldate_col                                          1\n",
       "add_line_col                                           1\n",
       "add_lname_col                                          1\n",
       "add_ret_mark                                           1\n",
       "add_retdate_col                                        1\n",
       "add_sg_col                                             1\n",
       "annual_pcnt_raise                                   0.02\n",
       "case_study                                       sample3\n",
       "compute_job_category_order                             1\n",
       "compute_pay_measures                                   1\n",
       "compute_with_job_changes                               1\n",
       "count_dist                                         split\n",
       "count_final_month                                      0\n",
       "date_exception_end                   2014-12-31 00:00:00\n",
       "date_exception_start                 2014-12-31 00:00:00\n",
       "delayed_implementation                                 1\n",
       "discount_longev_for_fur                                1\n",
       "end_date                                               0\n",
       "enhanced_jobs                                          1\n",
       "enhanced_jobs_full_suffix                              B\n",
       "enhanced_jobs_part_suffix                              R\n",
       "future_raise                                           0\n",
       "imp_date                             2016-10-31 00:00:00\n",
       "imp_month                                             34\n",
       "implementation_date                  2016-10-31 00:00:00\n",
       "init_ret_age                                          65\n",
       "init_ret_age_months                                    0\n",
       "init_ret_age_years                                    65\n",
       "int_job_counts                                         0\n",
       "job_levels_basic                                       8\n",
       "job_levels_enhanced                                   16\n",
       "last_contract_year                                  2019\n",
       "lspcnt_calc_on_remaining_population                    0\n",
       "no_bump                                                1\n",
       "num_of_job_levels                                     16\n",
       "pay_table_exception_year                          2014.1\n",
       "pay_table_longevity_sort                               7\n",
       "pay_table_year_sort                                 2018\n",
       "ratio_dist                                         split\n",
       "recall                                                 1\n",
       "ret_age                                               65\n",
       "ret_age_increase                                       0\n",
       "save_to_pickle                                         1\n",
       "sg_dist                                             part\n",
       "start                                2013-12-31 00:00:00\n",
       "starting_date                        2013-12-31 00:00:00\n",
       "stripplot_full_time_pcnt                               0\n",
       "top_of_scale                                          12"
      ]
     },
     "execution_count": 15,
     "metadata": {},
     "output_type": "execute_result"
    }
   ],
   "source": [
    "%%time\n",
    "f.print_config_selections()"
   ]
  },
  {
   "cell_type": "markdown",
   "metadata": {
    "deletable": true,
    "editable": true
   },
   "source": [
    "### cells below for demonstration only"
   ]
  },
  {
   "cell_type": "markdown",
   "metadata": {
    "deletable": true,
    "editable": true
   },
   "source": [
    "### build a 'hybrid' list example:\n",
    "(stored as 'dill/hybrid.pkl')"
   ]
  },
  {
   "cell_type": "code",
   "execution_count": 16,
   "metadata": {
    "collapsed": false,
    "deletable": true,
    "editable": true
   },
   "outputs": [
    {
     "name": "stdout",
     "output_type": "stream",
     "text": [
      "CPU times: user 124 ms, sys: 0 ns, total: 124 ms\n",
      "Wall time: 124 ms\n"
     ]
    }
   ],
   "source": [
    "%%time\n",
    "# this will build a \"hybrid\" list with equal weighting given to longevity and standalone job position\n",
    "master = lb.prepare_master_list()\n",
    "lb.build_list(master, ['ldate', 'jobp'], [.5, .5])"
   ]
  },
  {
   "cell_type": "code",
   "execution_count": 17,
   "metadata": {
    "collapsed": false,
    "deletable": true,
    "editable": true
   },
   "outputs": [
    {
     "name": "stdout",
     "output_type": "stream",
     "text": [
      "CPU times: user 1.49 s, sys: 236 ms, total: 1.72 s\n",
      "Wall time: 1.63 s\n"
     ]
    }
   ],
   "source": [
    "%%time\n",
    "# generate dataset for the hybrid list\n",
    "%run compute_measures hybrid prex"
   ]
  },
  {
   "cell_type": "markdown",
   "metadata": {
    "deletable": true,
    "editable": true
   },
   "source": [
    "### sample of files created"
   ]
  },
  {
   "cell_type": "code",
   "execution_count": 18,
   "metadata": {
    "collapsed": false,
    "deletable": true,
    "editable": true,
    "scrolled": false
   },
   "outputs": [
    {
     "name": "stdout",
     "output_type": "stream",
     "text": [
      "< MASTER > \n",
      " row count: 7510 \n",
      " column count: 11 \n",
      " Index(['empkey', 'eg', 'lname', 'dob', 'doh', 'ldate', 'sg', 'fur', 'line',\n",
      "       'eg_order', 'retdate'],\n",
      "      dtype='object') \n",
      " \n",
      "             empkey  eg    lname        dob        doh      ldate  sg  fur  line  eg_order    retdate\n",
      "empkey                                                                                              \n",
      "10011102  10011102   1  tooeyoo 1949-07-13 1973-02-26 1975-01-29   0    0     1         1 2014-07-13\n",
      "10010475  10010475   1  rubelot 1949-02-05 1975-05-27 1975-05-27   0    0     1         2 2014-02-05\n",
      "10013096  10013096   1  yeloxid 1949-01-08 1977-01-18 1977-01-18   0    0     1         3 2014-01-08\n",
      "10012178  10012178   1  xayeaue 1951-06-07 1977-11-15 1977-11-15   0    0     1         4 2016-06-07\n",
      "10014447  10014447   1  finuceu 1951-10-17 1977-12-09 1977-12-09   0    0     1         5 2016-10-17 \n",
      "\n",
      " -------------------------------------------------------------------------------- \n",
      "\n",
      "< SKELETON > \n",
      " row count: 930850 \n",
      " column count: 19 \n",
      " Index(['mnum', 'idx', 'empkey', 'mth_pcnt', 'date', 'year', 'pay_raise', 'fur',\n",
      "       'eg', 'retdate', 'doh', 'ldate', 'lname', 'line', 'sg', 'ret_mark',\n",
      "       'scale', 's_lmonths', 'age'],\n",
      "      dtype='object') \n",
      " \n",
      "           mnum  idx    empkey  mth_pcnt       date    year  pay_raise  fur  eg    retdate        doh      ldate  \\\n",
      "empkey                                                                                                            \n",
      "10011102     0    0  10011102       1.0 2013-12-31  2013.0        1.0    0   1 2014-07-13 1973-02-26 1975-01-29   \n",
      "10010475     0    1  10010475       1.0 2013-12-31  2013.0        1.0    0   1 2014-02-05 1975-05-27 1975-05-27   \n",
      "10013096     0    2  10013096       1.0 2013-12-31  2013.0        1.0    0   1 2014-01-08 1977-01-18 1977-01-18   \n",
      "10012178     0    3  10012178       1.0 2013-12-31  2013.0        1.0    0   1 2016-06-07 1977-11-15 1977-11-15   \n",
      "10014447     0    4  10014447       1.0 2013-12-31  2013.0        1.0    0   1 2016-10-17 1977-12-09 1977-12-09   \n",
      "\n",
      "            lname  line  sg  ret_mark  scale  s_lmonths        age  \n",
      "empkey                                                              \n",
      "10011102  tooeyoo     1   0         0     12        467  64.465054  \n",
      "10010475  rubelot     1   0         0     12        463  64.903226  \n",
      "10013096  yeloxid     1   0         0     12        443  64.978495  \n",
      "10012178  xayeaue     1   0         0     12        433  62.564516  \n",
      "10014447  finuceu     1   0         0     12        432  62.204301   \n",
      "\n",
      " -------------------------------------------------------------------------------- \n",
      "\n",
      "< STANDALONE > \n",
      " row count: 930850 \n",
      " column count: 34 \n",
      " Index(['mnum', 'idx', 'empkey', 'mth_pcnt', 'date', 'year', 'pay_raise', 'fur',\n",
      "       'eg', 'retdate', 'doh', 'ldate', 'lname', 'line', 'sg', 'ret_mark',\n",
      "       'scale', 's_lmonths', 'age', 'held', 'job_count', 'orig_job', 'jnum',\n",
      "       'lnum', 'lspcnt', 'snum', 'spcnt', 'rank_in_job', 'jobp', 'mlong',\n",
      "       'ylong', 'mpay', 'cpay', 'cat_order'],\n",
      "      dtype='object') \n",
      " \n",
      "           mnum  idx    empkey  mth_pcnt       date    year  pay_raise  fur  eg    retdate        doh      ldate  \\\n",
      "empkey                                                                                                            \n",
      "10011102     0    0  10011102       1.0 2013-12-31  2013.0        1.0    0   1 2014-07-13 1973-02-26 1975-01-29   \n",
      "10010475     0    1  10010475       1.0 2013-12-31  2013.0        1.0    0   1 2014-02-05 1975-05-27 1975-05-27   \n",
      "10013096     0    2  10013096       1.0 2013-12-31  2013.0        1.0    0   1 2014-01-08 1977-01-18 1977-01-18   \n",
      "10012178     0    3  10012178       1.0 2013-12-31  2013.0        1.0    0   1 2016-06-07 1977-11-15 1977-11-15   \n",
      "10014447     0    4  10014447       1.0 2013-12-31  2013.0        1.0    0   1 2016-10-17 1977-12-09 1977-12-09   \n",
      "\n",
      "            lname  line  sg  ret_mark  scale  s_lmonths        age  held  job_count  orig_job  jnum  lnum    lspcnt  \\\n",
      "empkey                                                                                                                \n",
      "10011102  tooeyoo     1   0         0     12        467  64.465054     0        118         0     1     1  0.000235   \n",
      "10010475  rubelot     1   0         0     12        463  64.903226     0        118         0     1     2  0.000470   \n",
      "10013096  yeloxid     1   0         0     12        443  64.978495     0        118         0     1     3  0.000705   \n",
      "10012178  xayeaue     1   0         0     12        433  62.564516     0        118         0     1     4  0.000940   \n",
      "10014447  finuceu     1   0         0     12        432  62.204301     0        118         0     1     5  0.001175   \n",
      "\n",
      "          snum     spcnt  rank_in_job      jobp  mlong      ylong     mpay     cpay  cat_order  \n",
      "empkey                                                                                          \n",
      "10011102   1.0  0.000257            1  1.008475    468  39.000000  11.0415  11.0415   1.406780  \n",
      "10010475   2.0  0.000515            2  1.016949    464  38.666667  11.0415  11.0415   2.813559  \n",
      "10013096   3.0  0.000772            3  1.025424    444  37.000000  11.0415  11.0415   4.220339  \n",
      "10012178   4.0  0.001030            4  1.033898    434  36.166667  11.0415  11.0415   5.627119  \n",
      "10014447   5.0  0.001287            5  1.042373    433  36.083333  11.0415  11.0415   7.033898   \n",
      "\n",
      " -------------------------------------------------------------------------------- \n",
      "\n",
      "< P_P1 > \n",
      " row count: 7510 \n",
      " column count: 1 \n",
      " Index(['idx'], dtype='object') \n",
      " \n",
      "           idx\n",
      "empkey       \n",
      "10011102    1\n",
      "10010475    2\n",
      "10013096    3\n",
      "10012178    4\n",
      "10014447    5 \n",
      "\n",
      " -------------------------------------------------------------------------------- \n",
      "\n",
      "< PAY_TABLE_ENHANCED > \n",
      " row count: 1632 \n",
      " column count: 1 \n",
      " Index(['monthly'], dtype='object') \n",
      " \n",
      "              monthly\n",
      "ptindex             \n",
      "201300101.0  2152.20\n",
      "201300102.0  1873.68\n",
      "201300103.0  2152.20\n",
      "201300104.0  2152.20\n",
      "201300105.0  1873.68 \n",
      "\n",
      " -------------------------------------------------------------------------------- \n",
      "\n",
      "< PAY_TABLE_BASIC > \n",
      " row count: 864 \n",
      " column count: 1 \n",
      " Index(['monthly'], dtype='object') \n",
      " \n",
      "              monthly\n",
      "ptindex             \n",
      "201300101.0  2050.92\n",
      "201300102.0  2050.92\n",
      "201300103.0  2050.92\n",
      "201300104.0  2050.92\n",
      "201300105.0  2050.92 \n",
      "\n",
      " -------------------------------------------------------------------------------- \n",
      "\n",
      "< DS_P1 > \n",
      " row count: 930850 \n",
      " column count: 35 \n",
      " Index(['mnum', 'idx', 'empkey', 'mth_pcnt', 'date', 'year', 'pay_raise', 'fur',\n",
      "       'eg', 'retdate', 'doh', 'ldate', 'lname', 'line', 'sg', 'ret_mark',\n",
      "       'scale', 's_lmonths', 'age', 'new_order', 'orig_job', 'jnum', 'fbff',\n",
      "       'snum', 'spcnt', 'lnum', 'lspcnt', 'rank_in_job', 'job_count', 'jobp',\n",
      "       'mlong', 'ylong', 'mpay', 'cpay', 'cat_order'],\n",
      "      dtype='object') \n",
      " \n",
      "           mnum  idx    empkey  mth_pcnt       date    year  pay_raise  fur  eg    retdate        doh      ldate  \\\n",
      "empkey                                                                                                            \n",
      "10011102     0    0  10011102       1.0 2013-12-31  2013.0        1.0    0   1 2014-07-13 1973-02-26 1975-01-29   \n",
      "10010475     0    1  10010475       1.0 2013-12-31  2013.0        1.0    0   1 2014-02-05 1975-05-27 1975-05-27   \n",
      "10013096     0    2  10013096       1.0 2013-12-31  2013.0        1.0    0   1 2014-01-08 1977-01-18 1977-01-18   \n",
      "10012178     0    3  10012178       1.0 2013-12-31  2013.0        1.0    0   1 2016-06-07 1977-11-15 1977-11-15   \n",
      "10014447     0    4  10014447       1.0 2013-12-31  2013.0        1.0    0   1 2016-10-17 1977-12-09 1977-12-09   \n",
      "\n",
      "            lname  line  sg  ret_mark  scale  s_lmonths        age  new_order  orig_job  jnum  fbff  snum     spcnt  \\\n",
      "empkey                                                                                                                \n",
      "10011102  tooeyoo     1   0         0     12        467  64.465054          1       0.0     1     1   1.0  0.000257   \n",
      "10010475  rubelot     1   0         0     12        463  64.903226          2       0.0     1     1   2.0  0.000515   \n",
      "10013096  yeloxid     1   0         0     12        443  64.978495          3       0.0     1     1   3.0  0.000772   \n",
      "10012178  xayeaue     1   0         0     12        433  62.564516          4       0.0     1     1   4.0  0.001030   \n",
      "10014447  finuceu     1   0         0     12        432  62.204301          5       0.0     1     1   5.0  0.001287   \n",
      "\n",
      "          lnum    lspcnt  rank_in_job  job_count      jobp  mlong      ylong     mpay     cpay  cat_order  \n",
      "empkey                                                                                                     \n",
      "10011102     1  0.000235            1        118  1.008475    468  39.000000  11.0415  11.0415   1.406780  \n",
      "10010475     2  0.000470            2        118  1.016949    464  38.666667  11.0415  11.0415   2.813559  \n",
      "10013096     3  0.000705            3        118  1.025424    444  37.000000  11.0415  11.0415   4.220339  \n",
      "10012178     4  0.000940            4        118  1.033898    434  36.166667  11.0415  11.0415   5.627119  \n",
      "10014447     5  0.001175            5        118  1.042373    433  36.083333  11.0415  11.0415   7.033898   \n",
      "\n",
      " -------------------------------------------------------------------------------- \n",
      "\n",
      "< P_HYBRID > \n",
      " row count: 6415 \n",
      " column count: 1 \n",
      " Index(['idx'], dtype='object') \n",
      " \n",
      "           idx\n",
      "empkey       \n",
      "10011102    1\n",
      "10010475    2\n",
      "20010692    3\n",
      "10013096    4\n",
      "20011034    5 \n",
      "\n",
      " -------------------------------------------------------------------------------- \n",
      "\n",
      "CPU times: user 208 ms, sys: 108 ms, total: 316 ms\n",
      "Wall time: 311 ms\n"
     ]
    }
   ],
   "source": [
    "%%time\n",
    "# print only the first 5 lines of each file\n",
    "case_study = pd.read_pickle('dill/case_dill.pkl').case.value\n",
    "file_names = ['master', 'skeleton', 'standalone', 'p_p1', 'pay_table_enhanced', 'pay_table_basic', 'ds_p1', 'p_hybrid', case_study + '_final']\n",
    "for file in file_names:\n",
    "    try:\n",
    "        df = pd.read_pickle('dill/' + file + '.pkl')\n",
    "        print('< ' + file.upper() + ' >', '\\n', 'row count: ' + str(len(df)),\n",
    "            '\\n', 'column count: '+ str(len(df.columns)), '\\n',\n",
    "            df.columns, '\\n',\n",
    "            '\\n', df.head().to_string(line_width=120), '\\n\\n', '-' * 80, '\\n')\n",
    "    except:\n",
    "        pass"
   ]
  },
  {
   "cell_type": "code",
   "execution_count": null,
   "metadata": {
    "collapsed": false,
    "deletable": true,
    "editable": true,
    "scrolled": false
   },
   "outputs": [],
   "source": []
  },
  {
   "cell_type": "code",
   "execution_count": null,
   "metadata": {
    "collapsed": true,
    "deletable": true,
    "editable": true
   },
   "outputs": [],
   "source": []
  },
  {
   "cell_type": "code",
   "execution_count": null,
   "metadata": {
    "collapsed": false,
    "deletable": true,
    "editable": true
   },
   "outputs": [],
   "source": []
  },
  {
   "cell_type": "code",
   "execution_count": null,
   "metadata": {
    "collapsed": true,
    "deletable": true,
    "editable": true
   },
   "outputs": [],
   "source": []
  },
  {
   "cell_type": "code",
   "execution_count": null,
   "metadata": {
    "collapsed": true,
    "deletable": true,
    "editable": true
   },
   "outputs": [],
   "source": []
  },
  {
   "cell_type": "code",
   "execution_count": null,
   "metadata": {
    "collapsed": true,
    "deletable": true,
    "editable": true
   },
   "outputs": [],
   "source": []
  },
  {
   "cell_type": "code",
   "execution_count": null,
   "metadata": {
    "collapsed": true,
    "deletable": true,
    "editable": true
   },
   "outputs": [],
   "source": []
  },
  {
   "cell_type": "code",
   "execution_count": null,
   "metadata": {
    "collapsed": true,
    "deletable": true,
    "editable": true
   },
   "outputs": [],
   "source": []
  },
  {
   "cell_type": "code",
   "execution_count": null,
   "metadata": {
    "collapsed": true,
    "deletable": true,
    "editable": true
   },
   "outputs": [],
   "source": []
  },
  {
   "cell_type": "code",
   "execution_count": null,
   "metadata": {
    "collapsed": true,
    "deletable": true,
    "editable": true
   },
   "outputs": [],
   "source": []
  },
  {
   "cell_type": "code",
   "execution_count": null,
   "metadata": {
    "collapsed": true,
    "deletable": true,
    "editable": true
   },
   "outputs": [],
   "source": []
  },
  {
   "cell_type": "code",
   "execution_count": null,
   "metadata": {
    "collapsed": true,
    "deletable": true,
    "editable": true
   },
   "outputs": [],
   "source": []
  },
  {
   "cell_type": "code",
   "execution_count": null,
   "metadata": {
    "collapsed": true,
    "deletable": true,
    "editable": true
   },
   "outputs": [],
   "source": []
  },
  {
   "cell_type": "code",
   "execution_count": null,
   "metadata": {
    "collapsed": true,
    "deletable": true,
    "editable": true
   },
   "outputs": [],
   "source": []
  },
  {
   "cell_type": "code",
   "execution_count": null,
   "metadata": {
    "collapsed": true,
    "deletable": true,
    "editable": true
   },
   "outputs": [],
   "source": []
  }
 ],
 "metadata": {
  "anaconda-cloud": {},
  "kernelspec": {
   "display_name": "Python [conda root]",
   "language": "python",
   "name": "conda-root-py"
  },
  "language_info": {
   "codemirror_mode": {
    "name": "ipython",
    "version": 3
   },
   "file_extension": ".py",
   "mimetype": "text/x-python",
   "name": "python",
   "nbconvert_exporter": "python",
   "pygments_lexer": "ipython3",
   "version": "3.5.3"
  }
 },
 "nbformat": 4,
 "nbformat_minor": 0
}
